{
 "cells": [
  {
   "cell_type": "markdown",
   "metadata": {},
   "source": [
    "# Import libraries"
   ]
  },
  {
   "cell_type": "code",
   "execution_count": 1,
   "metadata": {},
   "outputs": [],
   "source": [
    "import pandas as pd\n",
    "import numpy as np\n",
    "from sklearn import metrics\n",
    "from sklearn.linear_model import LinearRegression\n",
    "from sklearn.model_selection import train_test_split\n",
    "import matplotlib.pyplot as plt \n",
    "import seaborn as sns\n",
    "from sklearn.model_selection import cross_val_score\n",
    "from sklearn.model_selection import KFold\n",
    "# allow plots to appear directly in the notebook\n",
    "%matplotlib inline\n",
    "from sklearn.metrics import mean_absolute_error\n",
    "from sklearn.metrics import r2_score\n",
    "from sklearn.metrics import mean_squared_error\n",
    "# Supress Warnings\n",
    "import warnings\n",
    "warnings.filterwarnings('ignore')\n"
   ]
  },
  {
   "cell_type": "markdown",
   "metadata": {},
   "source": [
    "# Load the data"
   ]
  },
  {
   "cell_type": "code",
   "execution_count": 2,
   "metadata": {},
   "outputs": [],
   "source": [
    "df_advertising = pd.read_csv(\"Advertising.csv\")"
   ]
  },
  {
   "cell_type": "markdown",
   "metadata": {},
   "source": [
    "# Preprocessing"
   ]
  },
  {
   "cell_type": "code",
   "execution_count": 3,
   "metadata": {
    "scrolled": true
   },
   "outputs": [
    {
     "data": {
      "text/html": [
       "<div>\n",
       "<style scoped>\n",
       "    .dataframe tbody tr th:only-of-type {\n",
       "        vertical-align: middle;\n",
       "    }\n",
       "\n",
       "    .dataframe tbody tr th {\n",
       "        vertical-align: top;\n",
       "    }\n",
       "\n",
       "    .dataframe thead th {\n",
       "        text-align: right;\n",
       "    }\n",
       "</style>\n",
       "<table border=\"1\" class=\"dataframe\">\n",
       "  <thead>\n",
       "    <tr style=\"text-align: right;\">\n",
       "      <th></th>\n",
       "      <th>TV</th>\n",
       "      <th>Radio</th>\n",
       "      <th>Newspaper</th>\n",
       "      <th>Sales</th>\n",
       "    </tr>\n",
       "  </thead>\n",
       "  <tbody>\n",
       "    <tr>\n",
       "      <th>0</th>\n",
       "      <td>230.1</td>\n",
       "      <td>37.8</td>\n",
       "      <td>69.2</td>\n",
       "      <td>22.1</td>\n",
       "    </tr>\n",
       "    <tr>\n",
       "      <th>1</th>\n",
       "      <td>44.5</td>\n",
       "      <td>39.3</td>\n",
       "      <td>45.1</td>\n",
       "      <td>10.4</td>\n",
       "    </tr>\n",
       "    <tr>\n",
       "      <th>2</th>\n",
       "      <td>17.2</td>\n",
       "      <td>45.9</td>\n",
       "      <td>69.3</td>\n",
       "      <td>12.0</td>\n",
       "    </tr>\n",
       "    <tr>\n",
       "      <th>3</th>\n",
       "      <td>151.5</td>\n",
       "      <td>41.3</td>\n",
       "      <td>58.5</td>\n",
       "      <td>16.5</td>\n",
       "    </tr>\n",
       "    <tr>\n",
       "      <th>4</th>\n",
       "      <td>180.8</td>\n",
       "      <td>10.8</td>\n",
       "      <td>58.4</td>\n",
       "      <td>17.9</td>\n",
       "    </tr>\n",
       "  </tbody>\n",
       "</table>\n",
       "</div>"
      ],
      "text/plain": [
       "      TV  Radio  Newspaper  Sales\n",
       "0  230.1   37.8       69.2   22.1\n",
       "1   44.5   39.3       45.1   10.4\n",
       "2   17.2   45.9       69.3   12.0\n",
       "3  151.5   41.3       58.5   16.5\n",
       "4  180.8   10.8       58.4   17.9"
      ]
     },
     "execution_count": 3,
     "metadata": {},
     "output_type": "execute_result"
    }
   ],
   "source": [
    "df_advertising.head(5)"
   ]
  },
  {
   "cell_type": "markdown",
   "metadata": {},
   "source": [
    "# Check the size "
   ]
  },
  {
   "cell_type": "code",
   "execution_count": 4,
   "metadata": {},
   "outputs": [
    {
     "data": {
      "text/plain": [
       "(200, 4)"
      ]
     },
     "execution_count": 4,
     "metadata": {},
     "output_type": "execute_result"
    }
   ],
   "source": [
    "df_advertising.shape"
   ]
  },
  {
   "cell_type": "markdown",
   "metadata": {},
   "source": [
    "# Describe the data"
   ]
  },
  {
   "cell_type": "code",
   "execution_count": 5,
   "metadata": {},
   "outputs": [
    {
     "data": {
      "text/html": [
       "<div>\n",
       "<style scoped>\n",
       "    .dataframe tbody tr th:only-of-type {\n",
       "        vertical-align: middle;\n",
       "    }\n",
       "\n",
       "    .dataframe tbody tr th {\n",
       "        vertical-align: top;\n",
       "    }\n",
       "\n",
       "    .dataframe thead th {\n",
       "        text-align: right;\n",
       "    }\n",
       "</style>\n",
       "<table border=\"1\" class=\"dataframe\">\n",
       "  <thead>\n",
       "    <tr style=\"text-align: right;\">\n",
       "      <th></th>\n",
       "      <th>TV</th>\n",
       "      <th>Radio</th>\n",
       "      <th>Newspaper</th>\n",
       "      <th>Sales</th>\n",
       "    </tr>\n",
       "  </thead>\n",
       "  <tbody>\n",
       "    <tr>\n",
       "      <th>count</th>\n",
       "      <td>200.000000</td>\n",
       "      <td>200.000000</td>\n",
       "      <td>200.000000</td>\n",
       "      <td>200.000000</td>\n",
       "    </tr>\n",
       "    <tr>\n",
       "      <th>mean</th>\n",
       "      <td>147.042500</td>\n",
       "      <td>23.264000</td>\n",
       "      <td>30.554000</td>\n",
       "      <td>15.130500</td>\n",
       "    </tr>\n",
       "    <tr>\n",
       "      <th>std</th>\n",
       "      <td>85.854236</td>\n",
       "      <td>14.846809</td>\n",
       "      <td>21.778621</td>\n",
       "      <td>5.283892</td>\n",
       "    </tr>\n",
       "    <tr>\n",
       "      <th>min</th>\n",
       "      <td>0.700000</td>\n",
       "      <td>0.000000</td>\n",
       "      <td>0.300000</td>\n",
       "      <td>1.600000</td>\n",
       "    </tr>\n",
       "    <tr>\n",
       "      <th>25%</th>\n",
       "      <td>74.375000</td>\n",
       "      <td>9.975000</td>\n",
       "      <td>12.750000</td>\n",
       "      <td>11.000000</td>\n",
       "    </tr>\n",
       "    <tr>\n",
       "      <th>50%</th>\n",
       "      <td>149.750000</td>\n",
       "      <td>22.900000</td>\n",
       "      <td>25.750000</td>\n",
       "      <td>16.000000</td>\n",
       "    </tr>\n",
       "    <tr>\n",
       "      <th>75%</th>\n",
       "      <td>218.825000</td>\n",
       "      <td>36.525000</td>\n",
       "      <td>45.100000</td>\n",
       "      <td>19.050000</td>\n",
       "    </tr>\n",
       "    <tr>\n",
       "      <th>max</th>\n",
       "      <td>296.400000</td>\n",
       "      <td>49.600000</td>\n",
       "      <td>114.000000</td>\n",
       "      <td>27.000000</td>\n",
       "    </tr>\n",
       "  </tbody>\n",
       "</table>\n",
       "</div>"
      ],
      "text/plain": [
       "               TV       Radio   Newspaper       Sales\n",
       "count  200.000000  200.000000  200.000000  200.000000\n",
       "mean   147.042500   23.264000   30.554000   15.130500\n",
       "std     85.854236   14.846809   21.778621    5.283892\n",
       "min      0.700000    0.000000    0.300000    1.600000\n",
       "25%     74.375000    9.975000   12.750000   11.000000\n",
       "50%    149.750000   22.900000   25.750000   16.000000\n",
       "75%    218.825000   36.525000   45.100000   19.050000\n",
       "max    296.400000   49.600000  114.000000   27.000000"
      ]
     },
     "execution_count": 5,
     "metadata": {},
     "output_type": "execute_result"
    }
   ],
   "source": [
    "df_advertising.describe()"
   ]
  },
  {
   "cell_type": "markdown",
   "metadata": {},
   "source": [
    "# Check for null data"
   ]
  },
  {
   "cell_type": "code",
   "execution_count": 6,
   "metadata": {
    "scrolled": true
   },
   "outputs": [
    {
     "data": {
      "text/plain": [
       "TV           0\n",
       "Radio        0\n",
       "Newspaper    0\n",
       "Sales        0\n",
       "dtype: int64"
      ]
     },
     "execution_count": 6,
     "metadata": {},
     "output_type": "execute_result"
    }
   ],
   "source": [
    "df_advertising.isnull().sum()"
   ]
  },
  {
   "cell_type": "markdown",
   "metadata": {},
   "source": [
    "# Relationship between the independent/input variables and the target variable"
   ]
  },
  {
   "cell_type": "code",
   "execution_count": 7,
   "metadata": {
    "scrolled": true
   },
   "outputs": [
    {
     "data": {
      "text/plain": [
       "<AxesSubplot:xlabel='Newspaper', ylabel='Sales'>"
      ]
     },
     "execution_count": 7,
     "metadata": {},
     "output_type": "execute_result"
    },
    {
     "data": {
      "image/png": "[encoded data removed]",
      "text/plain": [
       "<Figure size 1080x288 with 3 Axes>"
      ]
     },
     "metadata": {
      "needs_background": "light"
     },
     "output_type": "display_data"
    }
   ],
   "source": [
    "fig, axes = plt.subplots(1, 3, figsize=(15, 4), sharey=True)\n",
    "sns.scatterplot(ax=axes[0], x=df_advertising['TV'], y=df_advertising['Sales'],color='green')\n",
    "sns.scatterplot(ax=axes[1], x=df_advertising['Radio'], y=df_advertising['Sales'],color='blue')\n",
    "sns.scatterplot(ax=axes[2], x=df_advertising['Newspaper'], y=df_advertising['Sales'],color='orange')\n",
    "\n"
   ]
  },
  {
   "cell_type": "markdown",
   "metadata": {},
   "source": [
    "# Build Regression model with single input feature"
   ]
  },
  {
   "cell_type": "markdown",
   "metadata": {},
   "source": [
    "# Simple Linear Regression"
   ]
  },
  {
   "cell_type": "markdown",
   "metadata": {},
   "source": [
    "Initially, we have considered single attribute, i.e. TV as our input"
   ]
  },
  {
   "cell_type": "code",
   "execution_count": 8,
   "metadata": {},
   "outputs": [],
   "source": [
    "X = df_advertising[['TV']]\n",
    "y = df_advertising[[\"Sales\"]]"
   ]
  },
  {
   "cell_type": "markdown",
   "metadata": {},
   "source": [
    "# Split the data into train and test subset"
   ]
  },
  {
   "cell_type": "markdown",
   "metadata": {},
   "source": [
    "Import libraries"
   ]
  },
  {
   "cell_type": "code",
   "execution_count": 9,
   "metadata": {},
   "outputs": [],
   "source": [
    "from sklearn.model_selection import train_test_split\n"
   ]
  },
  {
   "cell_type": "markdown",
   "metadata": {},
   "source": [
    "Accuracy on training and testing data for different split size to identify the best split size.                           \n",
    "We have used R-square and MSE as our evaluation metrics."
   ]
  },
  {
   "cell_type": "code",
   "execution_count": 10,
   "metadata": {},
   "outputs": [
    {
     "name": "stdout",
     "output_type": "stream",
     "text": [
      "************************************************\n",
      "R-square at train data- 0.1 :  82.16681108294961\n",
      "R-square at test data- 0.1 :  61.28702683956344\n",
      "************************************************\n",
      "MSE  at train data- 0.1 :  5.149565076213515\n",
      "MSE  at test data- 0.1 :  5.9149938821562635\n",
      "************************************************\n",
      "R-square at train data- 0.2 :  82.36989366715561\n",
      "R-square at test data- 0.2 :  72.41962282650847\n",
      "************************************************\n",
      "MSE  at train data- 0.2 :  5.2050244431773125\n",
      "MSE  at test data- 0.2 :  5.3042564142323165\n",
      "************************************************\n",
      "R-square at train data- 0.3 :  81.55807735284488\n",
      "R-square at test data- 0.3 :  79.84701565892568\n",
      "************************************************\n",
      "MSE  at train data- 0.3 :  5.252456315115158\n",
      "MSE  at test data- 0.3 :  5.1435588637735865\n",
      "************************************************\n",
      "R-square at train data- 0.4 :  78.88266953974853\n",
      "R-square at test data- 0.4 :  84.06876486370001\n",
      "************************************************\n",
      "MSE  at train data- 0.4 :  5.620497166868532\n",
      "MSE  at test data- 0.4 :  4.6425608102314735\n",
      "************************************************\n",
      "R-square at train data- 0.5 :  79.16995064971175\n",
      "R-square at test data- 0.5 :  83.03642951255557\n",
      "************************************************\n",
      "MSE  at train data- 0.5 :  5.833983570599745\n",
      "MSE  at test data- 0.5 :  4.638568078076924\n"
     ]
    }
   ],
   "source": [
    "# variable size of the test dataset\n",
    "test_list=[0.1, 0.2, 0.3, 0.4, 0.5]\n",
    "acc1=[]\n",
    "acc2=[]\n",
    "acc3=[]\n",
    "acc4=[]\n",
    "#train model on various train/test sets and record the accuracies\n",
    "for num in test_list:    \n",
    "    #split the dataset according to the value in the list\n",
    "    X_train, X_test, y_train, y_test = train_test_split(X, y, test_size=num, random_state=1)\n",
    "    \n",
    "    #create a new model object\n",
    "    LR = LinearRegression()\n",
    "    #train the model on the train data\n",
    "    LR.fit(X_train,y_train)\n",
    "    \n",
    "    #predict the values using trained model for training data\n",
    "    LRPredict = LR.predict(X_train)\n",
    "    \n",
    "    #evaluate the training accuracy of the model\n",
    "    r2 = r2_score(y_train, LRPredict)\n",
    "    r2=r2*100\n",
    "    MSE = mean_squared_error(y_train, LRPredict) \n",
    "    \n",
    "    #predict the values using testing model for training data\n",
    "    LRPredict = LR.predict(X_test)\n",
    "    \n",
    "    #evaluate the testing accuracy of the model\n",
    "    tr2 = r2_score(y_test, LRPredict)\n",
    "    tr2=tr2*100\n",
    "    tMSE = mean_squared_error(y_test, LRPredict)\n",
    "    \n",
    "    #save the accuracy of the model\n",
    "    acc1.append(r2)   #training R-Square\n",
    "    acc2.append(MSE)  #training MSE\n",
    "    acc3.append(tr2)   #testing R-square\n",
    "    acc4.append(tMSE)   #training MSE\n",
    "    print(\"************************************************\")\n",
    "    print(\"R-square at train data-\",num,\": \",r2) \n",
    "    print(\"R-square at test data-\",num,\": \",tr2)   \n",
    "    print(\"************************************************\")\n",
    "    print(\"MSE  at train data-\",num,\": \",MSE)\n",
    "    print(\"MSE  at test data-\",num,\": \",tMSE)"
   ]
  },
  {
   "cell_type": "markdown",
   "metadata": {},
   "source": [
    "MSE  at train data- 0.1 :  5.149565076213515 MSE  at test data- 0.1 :  5.9149938821562635\n",
    "MSE  at train data- 0.2 :  5.205024443177312 MSE  at test data- 0.2 :  5.3042564142323165\n",
    "MSE  at train data- 0.3 :  5.252456315115158 MSE  at test data- 0.3 :  5.1435588637735865\n",
    "MSE  at train data- 0.4 :  5.620497166868532 MSE  at test data- 0.4 :  4.6425608102314735\n",
    "MSE  at train data- 0.5 :  5.83398357059974  MSE  at test data- 0.5 :  4.638568078076924\n",
    "\n",
    "\n",
    "\n",
    "R-square at train data- 0.1 :  0.821668110829496 R-square at test data- 0.1 :  0.6128702683956344\n",
    "R-square at train data- 0.2 :  0.823698936671556 R-square at test data- 0.2 :  0.7241962282650847\n",
    "R-square at train data- 0.3 :  0.815580773528448 R-square at test data- 0.3 :  0.7984701565892569\n",
    "R-square at train data- 0.4 :  0.788826695397485 R-square at test data- 0.4 :  0.8406876486370001\n",
    "R-square at train data- 0.5 :  0.791699506497117 R-square at test data- 0.5 :  0.8303642951255557"
   ]
  },
  {
   "cell_type": "markdown",
   "metadata": {},
   "source": [
    "Visulaize the train and test R-square"
   ]
  },
  {
   "cell_type": "code",
   "execution_count": 11,
   "metadata": {},
   "outputs": [
    {
     "data": {
      "image/png": "[encoded data removed]",
      "text/plain": [
       "<Figure size 432x288 with 1 Axes>"
      ]
     },
     "metadata": {
      "needs_background": "light"
     },
     "output_type": "display_data"
    }
   ],
   "source": [
    "plt.plot(test_list, acc1, color='r', label='R-Square_train')\n",
    "plt.plot(test_list, acc3, color='g', label='R-Square_test')\n",
    "  \n",
    "# Naming the x-axis, y-axis and the whole graph\n",
    "plt.xlabel(\"test_size\")\n",
    "plt.ylabel(\"R-Square\")\n",
    "plt.title(\"R-Square for different test size\")\n",
    "plt.legend()\n",
    "plt.show()"
   ]
  },
  {
   "cell_type": "markdown",
   "metadata": {},
   "source": [
    "According to R-square for test data, 0.4 is the test size"
   ]
  },
  {
   "cell_type": "markdown",
   "metadata": {},
   "source": [
    "Visulaize the train and test MSE"
   ]
  },
  {
   "cell_type": "code",
   "execution_count": 12,
   "metadata": {},
   "outputs": [
    {
     "data": {
      "image/png": "[encoded data removed]",
      "text/plain": [
       "<Figure size 432x288 with 1 Axes>"
      ]
     },
     "metadata": {
      "needs_background": "light"
     },
     "output_type": "display_data"
    }
   ],
   "source": [
    "plt.plot(test_list, acc2, color='r', label='MSE_train')\n",
    "plt.plot(test_list, acc4, color='g', label='MSE_test')\n",
    "  \n",
    "# Naming the x-axis, y-axis and the whole graph\n",
    "plt.xlabel(\"test_size\")\n",
    "plt.ylabel(\"MSE\")\n",
    "plt.title(\"MSE for different test size\")\n",
    "plt.legend()\n",
    "plt.show()"
   ]
  },
  {
   "cell_type": "markdown",
   "metadata": {},
   "source": [
    "According to MSE for test data, 0.4 is the test size"
   ]
  },
  {
   "cell_type": "markdown",
   "metadata": {},
   "source": [
    "Insights:\n",
    "We aspire for high test accuracy therefore we will go with the test size=0.40"
   ]
  },
  {
   "cell_type": "markdown",
   "metadata": {},
   "source": [
    "# Create the Linear Regression model for the best acheived split."
   ]
  },
  {
   "cell_type": "markdown",
   "metadata": {},
   "source": [
    "Train and test split"
   ]
  },
  {
   "cell_type": "code",
   "execution_count": 13,
   "metadata": {},
   "outputs": [],
   "source": [
    "X_train, X_test, y_train, y_test = train_test_split(X, y, train_size = 0.6, test_size = 0.4, random_state = 1)"
   ]
  },
  {
   "cell_type": "markdown",
   "metadata": {},
   "source": [
    "Load and train the linear regression model - model1"
   ]
  },
  {
   "cell_type": "code",
   "execution_count": 14,
   "metadata": {},
   "outputs": [],
   "source": [
    "\n",
    "#creating model1\n",
    "model1 = LinearRegression()\n",
    "#Fitting training data\n",
    "model1 = model1.fit(X_train, y_train)\n"
   ]
  },
  {
   "cell_type": "code",
   "execution_count": 15,
   "metadata": {},
   "outputs": [
    {
     "name": "stdout",
     "output_type": "stream",
     "text": [
      "[6.98506522]\n",
      "[[0.05478112]]\n"
     ]
    }
   ],
   "source": [
    "print(model1.intercept_) #this is the intercept of the line\n",
    "print(model1.coef_)      # this is the coefficient of the line"
   ]
  },
  {
   "cell_type": "markdown",
   "metadata": {},
   "source": [
    "Test the model on testing dataset"
   ]
  },
  {
   "cell_type": "code",
   "execution_count": 16,
   "metadata": {},
   "outputs": [],
   "source": [
    "y_pred = model1.predict(X_test)"
   ]
  },
  {
   "cell_type": "markdown",
   "metadata": {},
   "source": [
    "# Performance Evaluation using different metrics "
   ]
  },
  {
   "cell_type": "markdown",
   "metadata": {},
   "source": [
    "Import libraries from sklearn"
   ]
  },
  {
   "cell_type": "code",
   "execution_count": 17,
   "metadata": {},
   "outputs": [],
   "source": [
    "from sklearn.metrics import mean_squared_error\n",
    "from sklearn.metrics import mean_absolute_error\n",
    "from sklearn.metrics import r2_score"
   ]
  },
  {
   "cell_type": "markdown",
   "metadata": {},
   "source": [
    "Root Mean Square Error"
   ]
  },
  {
   "cell_type": "code",
   "execution_count": 18,
   "metadata": {},
   "outputs": [
    {
     "data": {
      "text/plain": [
       "2.1546602540148814"
      ]
     },
     "execution_count": 18,
     "metadata": {},
     "output_type": "execute_result"
    }
   ],
   "source": [
    "#Returns the mean squared error; we'll take a square root\n",
    "RMSE1=np.sqrt(mean_squared_error(y_test, y_pred))\n",
    "RMSE1"
   ]
  },
  {
   "cell_type": "markdown",
   "metadata": {},
   "source": [
    "Mean Absolute Error"
   ]
  },
  {
   "cell_type": "code",
   "execution_count": 19,
   "metadata": {},
   "outputs": [
    {
     "data": {
      "text/plain": [
       "1.7637470190860398"
      ]
     },
     "execution_count": 19,
     "metadata": {},
     "output_type": "execute_result"
    }
   ],
   "source": [
    "MAE1=mean_absolute_error(y_test, y_pred)\n",
    "MAE1"
   ]
  },
  {
   "cell_type": "markdown",
   "metadata": {},
   "source": [
    "Mean Squared Error"
   ]
  },
  {
   "cell_type": "code",
   "execution_count": 20,
   "metadata": {},
   "outputs": [
    {
     "data": {
      "text/plain": [
       "4.6425608102314735"
      ]
     },
     "execution_count": 20,
     "metadata": {},
     "output_type": "execute_result"
    }
   ],
   "source": [
    "MSE1=mean_squared_error(y_test, y_pred)\n",
    "MSE1"
   ]
  },
  {
   "cell_type": "markdown",
   "metadata": {},
   "source": [
    "R-square"
   ]
  },
  {
   "cell_type": "code",
   "execution_count": 21,
   "metadata": {},
   "outputs": [
    {
     "data": {
      "text/plain": [
       "84.06876486370001"
      ]
     },
     "execution_count": 21,
     "metadata": {},
     "output_type": "execute_result"
    }
   ],
   "source": [
    "#Checking the R-squared on the test set\n",
    "\n",
    "r21 = r2_score(y_test, y_pred)*100\n",
    "r21"
   ]
  },
  {
   "cell_type": "code",
   "execution_count": 22,
   "metadata": {},
   "outputs": [
    {
     "name": "stdout",
     "output_type": "stream",
     "text": [
      "RMSE of the Linear Regression model1 is 2.1546602540148814\n",
      "MAE of the Linear Regression model1 is 1.7637470190860398\n",
      "MSE of the Linear Regression model1 is 4.6425608102314735\n",
      "R-square of the Linear Regression model1 is 84.06876486370001\n"
     ]
    }
   ],
   "source": [
    "print(\"RMSE of the Linear Regression model1 is\" ,RMSE1)\n",
    "print(\"MAE of the Linear Regression model1 is\" ,MAE1)\n",
    "print(\"MSE of the Linear Regression model1 is\" ,MSE1)\n",
    "print(\"R-square of the Linear Regression model1 is\" ,r21)"
   ]
  },
  {
   "cell_type": "markdown",
   "metadata": {},
   "source": [
    "Visualize the line of regression"
   ]
  },
  {
   "cell_type": "code",
   "execution_count": 23,
   "metadata": {},
   "outputs": [
    {
     "data": {
      "text/plain": [
       "Text(0.5, 1.0, 'TV')"
      ]
     },
     "execution_count": 23,
     "metadata": {},
     "output_type": "execute_result"
    },
    {
     "data": {
      "image/png": "[encoded data removed]",
      "text/plain": [
       "<Figure size 432x288 with 1 Axes>"
      ]
     },
     "metadata": {
      "needs_background": "light"
     },
     "output_type": "display_data"
    }
   ],
   "source": [
    "plt.scatter(X_test, y_test,  color='black')\n",
    "plt.plot(X_test, y_pred, color='blue', linewidth=3)\n",
    "plt.xlabel('Money spent on advertisment through TV')\n",
    "plt.ylabel('Sales ')\n",
    "plt.title('TV')"
   ]
  },
  {
   "cell_type": "markdown",
   "metadata": {},
   "source": [
    "Visualize the actual and forecased sales"
   ]
  },
  {
   "cell_type": "code",
   "execution_count": 24,
   "metadata": {},
   "outputs": [
    {
     "data": {
      "text/plain": [
       "Text(0.5, 1.0, 'TV')"
      ]
     },
     "execution_count": 24,
     "metadata": {},
     "output_type": "execute_result"
    },
    {
     "data": {
      "image/png": "[encoded data removed]",
      "text/plain": [
       "<Figure size 432x288 with 1 Axes>"
      ]
     },
     "metadata": {
      "needs_background": "light"
     },
     "output_type": "display_data"
    }
   ],
   "source": [
    "plt.scatter(y_test,y_pred)\n",
    "plt.xlabel('Actual sales ')\n",
    "plt.ylabel('Forecased sales ')\n",
    "plt.title('TV')"
   ]
  },
  {
   "cell_type": "markdown",
   "metadata": {},
   "source": [
    "# K-Folds Cross validation"
   ]
  },
  {
   "cell_type": "markdown",
   "metadata": {},
   "source": [
    "Import libraries"
   ]
  },
  {
   "cell_type": "code",
   "execution_count": 25,
   "metadata": {},
   "outputs": [],
   "source": [
    "from sklearn.model_selection import cross_val_score\n",
    "from sklearn.model_selection import KFold\n",
    "\n"
   ]
  },
  {
   "cell_type": "markdown",
   "metadata": {},
   "source": [
    "Check for the best fold using R-square"
   ]
  },
  {
   "cell_type": "code",
   "execution_count": 26,
   "metadata": {},
   "outputs": [
    {
     "name": "stdout",
     "output_type": "stream",
     "text": [
      "R-squared of the Linear Regression for 3 folds: [82.10668706 78.97007796 82.10059361]\n",
      "Mean R-squared score for 3 folds: 81.05911953936251\n",
      "***************************************************\n",
      "R-squared of the Linear Regression for 4 folds: [78.75052291 86.43960076 76.9671719  80.85559928]\n",
      "Mean R-squared score for 4 folds: 80.75322371203988\n",
      "***************************************************\n",
      "R-squared of the Linear Regression for 5 folds: [72.41962283 89.17782035 76.02461512 79.3868037  80.67060647]\n",
      "Mean R-squared score for 5 folds: 79.53589369363915\n",
      "***************************************************\n",
      "R-squared of the Linear Regression for 6 folds: [70.99495414 86.50302828 85.88189219 71.58812883 87.00745584 75.36457824]\n",
      "Mean R-squared score for 6 folds: 79.55667291866658\n",
      "***************************************************\n",
      "R-squared of the Linear Regression for 7 folds: [70.91138927 83.17824942 89.80304813 74.97991712 80.98522086 84.67140737\n",
      " 68.90730706]\n",
      "Mean R-squared score for 7 folds: 79.06236274646288\n",
      "***************************************************\n",
      "R-squared of the Linear Regression for 8 folds: [70.91639444 82.41735086 89.45988731 81.2022937  76.22788776 78.05158097\n",
      " 85.7009249  69.58230466]\n",
      "Mean R-squared score for 8 folds: 79.19482807502713\n",
      "***************************************************\n",
      "R-squared of the Linear Regression for 9 folds: [69.51702585 85.10221403 85.36977628 89.0655439  73.36946359 72.86121525\n",
      " 86.82446836 85.31429614 68.67592496]\n",
      "Mean R-squared score for 9 folds: 79.5666587063559\n",
      "***************************************************\n",
      "R-squared of the Linear Regression for 10 folds: [61.28702684 79.26301733 86.41489104 92.28809377 76.95451153 75.32839099\n",
      " 77.5963152  80.10233049 86.5233115  68.92053884]\n",
      "Mean R-squared score for 10 folds: 78.4678427512965\n",
      "***************************************************\n"
     ]
    }
   ],
   "source": [
    "# vary the number of folds\n",
    "k_list=[3,4,5,6,7,8,9,10]\n",
    "acc=[]\n",
    "acc1=[]\n",
    "#train model on various k-folds and record the accuracies\n",
    "for num in k_list:    \n",
    "    #create a new model object\n",
    "    LR = LinearRegression()\n",
    "    \n",
    "    folds = KFold(n_splits = num, shuffle = True, random_state = 1)\n",
    "    scores = cross_val_score(LR, X, y, scoring='r2', cv=folds)\n",
    "    scores = scores*100\n",
    "    #save the accuracy of the model\n",
    "    acc.append(scores)\n",
    "    acc1.append(scores.mean())\n",
    "    print(\"R-squared of the Linear Regression for\" , num,\"folds:\",scores)\n",
    "    print(\"Mean R-squared score for\" , num,\"folds:\",scores.mean())\n",
    "    print(\"***************************************************\")\n"
   ]
  },
  {
   "cell_type": "markdown",
   "metadata": {},
   "source": [
    "Mean R-squared score for 3 folds: 0.810591195393625  Mean MSE for 3 folds: 5.2383290824964766\n",
    "Mean R-squared score for 4 folds: 0.807532237120398  Mean MSE for 4 folds: 5.244845884967177\n",
    "Mean R-squared score for 5 folds: 0.795358936936391  Mean MSE for 5 folds: 5.272758039226234\n",
    "Mean R-squared score for 6 folds: 0.795566729186665  Mean MSE for 6 folds: 5.28535711816525\n",
    "Mean R-squared score for 7 folds: 0.790623627464628  Mean MSE for 7 folds: 5.338300950743934\n",
    "Mean R-squared score for 8 folds: 0.791948280750271  Mean MSE for 8 folds: 5.316811843332724\n",
    "Mean R-squared score for 9 folds: 0.795666587063558  Mean MSE for 9 folds: 5.313102970371967\n",
    "Mean R-squared score for 10 folds: 0.78467842751296  Mean MSE for 10 folds: 5.301510927092926"
   ]
  },
  {
   "cell_type": "markdown",
   "metadata": {},
   "source": [
    "Check for the best fold using MSE"
   ]
  },
  {
   "cell_type": "code",
   "execution_count": 27,
   "metadata": {},
   "outputs": [
    {
     "name": "stdout",
     "output_type": "stream",
     "text": [
      "MSE of the Linear Regression for 3 folds: [4.92360196 5.71339273 5.07799256]\n",
      "Mean MSE for 3 folds: 5.2383290824964766\n",
      "***************************************************\n",
      "MSE of the Linear Regression for 4 folds: [5.0916671  4.12777522 6.14709698 5.61284423]\n",
      "Mean MSE for 4 folds: 5.244845884967177\n",
      "***************************************************\n",
      "MSE of the Linear Regression for 5 folds: [5.30425641 4.13711366 6.43837233 4.58515301 5.89889479]\n",
      "Mean MSE for 5 folds: 5.272758039226234\n",
      "***************************************************\n",
      "MSE of the Linear Regression for 6 folds: [5.08917115 4.82538339 3.97866169 7.63527946 4.22565736 5.95798966]\n",
      "Mean MSE for 6 folds: 5.28535711816525\n",
      "***************************************************\n",
      "MSE of the Linear Regression for 7 folds: [5.19492842 5.61261609 3.1586277  6.74767537 5.19563318 5.82718795\n",
      " 5.63143795]\n",
      "Mean MSE for 7 folds: 5.338300950743934\n",
      "***************************************************\n",
      "MSE of the Linear Regression for 8 folds: [5.15268423 5.28102322 4.11304541 4.10227307 8.03606175 4.29579374\n",
      " 5.45900709 6.09460624]\n",
      "Mean MSE for 8 folds: 5.316811843332724\n",
      "***************************************************\n",
      "MSE of the Linear Regression for 9 folds: [5.44431681 4.41526443 4.9534945  3.24657783 7.18351017 6.98954355\n",
      " 3.34643259 5.5155013  6.72328556]\n",
      "Mean MSE for 9 folds: 5.313102970371967\n",
      "***************************************************\n",
      "MSE of the Linear Regression for 10 folds: [5.91499388 4.73555439 5.00207448 3.05498489 4.52972903 8.34676924\n",
      " 4.84140828 4.36265856 5.15994102 7.06699551]\n",
      "Mean MSE for 10 folds: 5.301510927092926\n",
      "***************************************************\n"
     ]
    }
   ],
   "source": [
    "# vary the number of folds\n",
    "k_list=[3,4,5,6,7,8,9,10]\n",
    "acc=[]\n",
    "acc2=[]\n",
    "#train model on various k-folds and record the accuracies\n",
    "for num in k_list:    \n",
    "    #create a new model object\n",
    "    LR = LinearRegression()\n",
    "    \n",
    "    folds = KFold(n_splits = num, shuffle = True, random_state = 1)\n",
    "    scores = cross_val_score(LR, X, y, scoring='neg_mean_squared_error', cv=folds) \n",
    "    \n",
    "    #Here we have used 'neg_mean_squared_error' as our scoring metric. CV tries to maximize\n",
    "    #the score or accuracy of a metric, so the metrics which need to be minimized are negated. \n",
    "    #When it is a metric that should be minimized it returns the negated value and if it is a \n",
    "    #score that should be maximized, it is left positive.\n",
    "    \n",
    "    scores \n",
    "    scores=-scores\n",
    "    \n",
    "    #save the accuracy of the model\n",
    "    acc.append(scores)\n",
    "    #save the mean accuracy of the model\n",
    "    acc2.append(scores.mean())\n",
    "    \n",
    "    print(\"MSE of the Linear Regression for\" , num,\"folds:\",scores)\n",
    "    print(\"Mean MSE for\" , num,\"folds:\",scores.mean())\n",
    "    print(\"***************************************************\")"
   ]
  },
  {
   "cell_type": "markdown",
   "metadata": {},
   "source": [
    "Plot the metrics for different folds"
   ]
  },
  {
   "cell_type": "code",
   "execution_count": 28,
   "metadata": {
    "scrolled": true
   },
   "outputs": [
    {
     "data": {
      "text/plain": [
       "Text(0, 0.5, 'MSE')"
      ]
     },
     "execution_count": 28,
     "metadata": {},
     "output_type": "execute_result"
    },
    {
     "data": {
      "image/png": "[encoded data removed]",
      "text/plain": [
       "<Figure size 432x288 with 2 Axes>"
      ]
     },
     "metadata": {
      "needs_background": "light"
     },
     "output_type": "display_data"
    }
   ],
   "source": [
    "fig, axs = plt.subplots(2)\n",
    "fig.suptitle('Accuracy on different folds')\n",
    "axs[0].plot(k_list, acc1)\n",
    "axs[0].set_ylabel(\"R-Square\")\n",
    "axs[1].plot(k_list, acc2)\n",
    "axs[1].set_ylabel(\"MSE\")"
   ]
  },
  {
   "cell_type": "markdown",
   "metadata": {},
   "source": [
    "Insights: Highest R-square and Lowest MSE achieved at k=3"
   ]
  },
  {
   "cell_type": "markdown",
   "metadata": {},
   "source": [
    "# Multiple Linear Regression"
   ]
  },
  {
   "cell_type": "markdown",
   "metadata": {},
   "source": [
    "\n",
    "# Develop linear regression model with two input variables"
   ]
  },
  {
   "cell_type": "markdown",
   "metadata": {},
   "source": [
    "Take TV, Radio as the input attributes"
   ]
  },
  {
   "cell_type": "code",
   "execution_count": 29,
   "metadata": {},
   "outputs": [],
   "source": [
    "X = df_advertising[['TV', 'Radio']]\n",
    "y = df_advertising.Sales"
   ]
  },
  {
   "cell_type": "markdown",
   "metadata": {},
   "source": [
    "Accuracy on training and testing data for different split size to identify the best split size.\n",
    "\n",
    "We have used R-square and MSE as our evaluation metrics."
   ]
  },
  {
   "cell_type": "code",
   "execution_count": 30,
   "metadata": {},
   "outputs": [
    {
     "name": "stdout",
     "output_type": "stream",
     "text": [
      "************************************************\n",
      "R-square at train data- 0.1 :  90.57911528018568\n",
      "R-square at test data- 0.1 :  82.7514066149318\n",
      "************************************************\n",
      "MSE  at train data- 0.1 :  2.7204029052709404\n",
      "MSE  at test data- 0.1 :  2.635429831897958\n",
      "************************************************\n",
      "R-square at train data- 0.2 :  90.5476269615609\n",
      "R-square at test data- 0.2 :  87.49222345136188\n",
      "************************************************\n",
      "MSE  at train data- 0.2 :  2.790671354003568\n",
      "MSE  at test data- 0.2 :  2.4054948040980486\n",
      "************************************************\n",
      "R-square at train data- 0.3 :  89.93439479032659\n",
      "R-square at test data- 0.3 :  90.73562242286408\n",
      "************************************************\n",
      "MSE  at train data- 0.3 :  2.866791747288931\n",
      "MSE  at test data- 0.3 :  2.3645069433762345\n",
      "************************************************\n",
      "R-square at train data- 0.4 :  89.48398030596712\n",
      "R-square at test data- 0.4 :  91.16937297400499\n",
      "************************************************\n",
      "MSE  at train data- 0.4 :  2.798898232345116\n",
      "MSE  at test data- 0.4 :  2.573354960234226\n",
      "************************************************\n",
      "R-square at train data- 0.5 :  90.24925470875851\n",
      "R-square at test data- 0.5 :  90.0433660010505\n",
      "************************************************\n",
      "MSE  at train data- 0.5 :  2.730943497712766\n",
      "MSE  at test data- 0.5 :  2.7225709744776894\n"
     ]
    }
   ],
   "source": [
    "# variable size of the test dataset\n",
    "test_list=[0.1, 0.2, 0.3, 0.4, 0.5]\n",
    "acc1=[]\n",
    "acc2=[]\n",
    "acc3=[]\n",
    "acc4=[]\n",
    "#train model on various train/test sets and record the accuracies\n",
    "for num in test_list:    \n",
    "    #split the dataset according to the value in the list\n",
    "    X_train, X_test, y_train, y_test = train_test_split(X, y, test_size=num, random_state=1)\n",
    "    \n",
    "    #create a new model object\n",
    "    LR = LinearRegression()\n",
    "    #train the model on the train data\n",
    "    LR.fit(X_train,y_train)\n",
    "    \n",
    "    #predict the values using trained model for training data\n",
    "    LRPredict = LR.predict(X_train)\n",
    "    \n",
    "    #evaluate the training accuracy of the model\n",
    "    r2 = r2_score(y_train, LRPredict)*100\n",
    "    MSE = mean_squared_error(y_train, LRPredict) \n",
    "    \n",
    "    #predict the values using testing model for training data\n",
    "    LRPredict = LR.predict(X_test)\n",
    "    \n",
    "    #evaluate the testing accuracy of the model\n",
    "    tr2 = r2_score(y_test, LRPredict)*100\n",
    "    tMSE = mean_squared_error(y_test, LRPredict)\n",
    "    \n",
    "    #save the accuracy of the model\n",
    "    acc1.append(r2)   #training R-Square\n",
    "    acc2.append(MSE)  #training MSE\n",
    "    acc3.append(tr2)   #testing R-square\n",
    "    acc4.append(tMSE)   #training MSE\n",
    "    print(\"************************************************\")\n",
    "    print(\"R-square at train data-\",num,\": \",r2) \n",
    "    print(\"R-square at test data-\",num,\": \",tr2)   \n",
    "    print(\"************************************************\")\n",
    "    print(\"MSE  at train data-\",num,\": \",MSE)\n",
    "    print(\"MSE  at test data-\",num,\": \",tMSE)"
   ]
  },
  {
   "cell_type": "markdown",
   "metadata": {},
   "source": [
    "R-square at train data- 0.1 :  0.905791152801856 R-square at test data- 0.1 :  0.8275140661493179\n",
    "R-square at train data- 0.2 :  0.905476269615609 R-square at test data- 0.2 :  0.8749222345136188\n",
    "R-square at train data- 0.3 :  0.899343947903266 R-square at test data- 0.3 :  0.9073562242286408\n",
    "R-square at train data- 0.4 :  0.894839803059671 R-square at test data- 0.4 :  0.9116937297400498\n",
    "R-square at train data- 0.5 :  0.90249254708758  R-square at test data- 0.5 :  0.900433660010505\n",
    "        \n",
    "MSE  at train data- 0.1 :  2.72040290527094  MSE  at test data- 0.1 :  2.635429831897958\n",
    "MSE  at train data- 0.2 :  2.790671354003568 MSE  at test data- 0.2 :  2.4054948040980486\n",
    "MSE  at train data- 0.3 :  2.866791747288931 MSE  at test data- 0.3 :  2.3645069433762345\n",
    "MSE  at train data- 0.4 :  2.79889823234511  MSE  at test data- 0.4 :  2.573354960234226\n",
    "MSE  at train data- 0.5 :  2.730943497712766 MSE  at test data- 0.5 :  2.7225709744776894"
   ]
  },
  {
   "cell_type": "markdown",
   "metadata": {},
   "source": [
    "Visualize the train and test R-square"
   ]
  },
  {
   "cell_type": "code",
   "execution_count": 31,
   "metadata": {},
   "outputs": [
    {
     "data": {
      "image/png": "[encoded data removed]",
      "text/plain": [
       "<Figure size 432x288 with 1 Axes>"
      ]
     },
     "metadata": {
      "needs_background": "light"
     },
     "output_type": "display_data"
    }
   ],
   "source": [
    "plt.plot(test_list, acc1, color='r', label='R-Square_train')\n",
    "plt.plot(test_list, acc3, color='g', label='R-Square_test')\n",
    "  \n",
    "# Naming the x-axis, y-axis and the whole graph\n",
    "plt.xlabel(\"test_size\")\n",
    "plt.ylabel(\"R-Square\")\n",
    "plt.title(\"R-Square for different test size\")\n",
    "plt.legend()\n",
    "plt.show()"
   ]
  },
  {
   "cell_type": "markdown",
   "metadata": {},
   "source": [
    "According to R-square for test data, 0.4 is the test size"
   ]
  },
  {
   "cell_type": "markdown",
   "metadata": {},
   "source": [
    "Visualize the train and test MSE"
   ]
  },
  {
   "cell_type": "code",
   "execution_count": 32,
   "metadata": {},
   "outputs": [
    {
     "data": {
      "image/png": "[encoded data removed]",
      "text/plain": [
       "<Figure size 432x288 with 1 Axes>"
      ]
     },
     "metadata": {
      "needs_background": "light"
     },
     "output_type": "display_data"
    }
   ],
   "source": [
    "plt.plot(test_list, acc2, color='r', label='MSE_train')\n",
    "plt.plot(test_list, acc4, color='g', label='MSE_test')\n",
    "  \n",
    "# Naming the x-axis, y-axis and the whole graph\n",
    "plt.xlabel(\"test_size\")\n",
    "plt.ylabel(\"MSE\")\n",
    "plt.title(\"MSE for different test size\")\n",
    "plt.legend()\n",
    "plt.show()"
   ]
  },
  {
   "cell_type": "markdown",
   "metadata": {},
   "source": [
    "According to MSE for test data, 0.3 is the test size"
   ]
  },
  {
   "cell_type": "markdown",
   "metadata": {},
   "source": [
    "Insights: Based on R-square and MSE, we will choose 0.30 as our test size"
   ]
  },
  {
   "cell_type": "markdown",
   "metadata": {},
   "source": [
    "# Develop the LR model with 2 input Attributes"
   ]
  },
  {
   "cell_type": "code",
   "execution_count": 33,
   "metadata": {},
   "outputs": [],
   "source": [
    "X_train, X_test, y_train, y_test = train_test_split(X, y, train_size = 0.7, test_size = 0.3, random_state = 1)"
   ]
  },
  {
   "cell_type": "code",
   "execution_count": 34,
   "metadata": {},
   "outputs": [
    {
     "name": "stdout",
     "output_type": "stream",
     "text": [
      "4.639008926907959\n",
      "[0.05500479 0.10164376]\n"
     ]
    }
   ],
   "source": [
    "# instantiate and fit\n",
    "model2 = LinearRegression()\n",
    "model2 = model2.fit(X_train, y_train)\n",
    "\n",
    "# print the coefficients\n",
    "print(model2.intercept_) #this gives the intercept\n",
    "print(model2.coef_)     #this gives the coefficient"
   ]
  },
  {
   "cell_type": "markdown",
   "metadata": {},
   "source": [
    "Forecast on the testing data"
   ]
  },
  {
   "cell_type": "code",
   "execution_count": 35,
   "metadata": {},
   "outputs": [],
   "source": [
    "y_pred = model2.predict(X_test)"
   ]
  },
  {
   "cell_type": "code",
   "execution_count": 36,
   "metadata": {},
   "outputs": [
    {
     "data": {
      "text/plain": [
       "1.5376953350310438"
      ]
     },
     "execution_count": 36,
     "metadata": {},
     "output_type": "execute_result"
    }
   ],
   "source": [
    "#Returns the mean squared error; we'll take a square root\n",
    "RMSE2=np.sqrt(mean_squared_error(y_test, y_pred))\n",
    "RMSE2"
   ]
  },
  {
   "cell_type": "code",
   "execution_count": 37,
   "metadata": {},
   "outputs": [
    {
     "data": {
      "text/plain": [
       "1.1919753277836755"
      ]
     },
     "execution_count": 37,
     "metadata": {},
     "output_type": "execute_result"
    }
   ],
   "source": [
    "#Mean Absolute Error\n",
    "MAE2=mean_absolute_error(y_test, y_pred)\n",
    "MAE2"
   ]
  },
  {
   "cell_type": "code",
   "execution_count": 38,
   "metadata": {},
   "outputs": [
    {
     "data": {
      "text/plain": [
       "2.3645069433762345"
      ]
     },
     "execution_count": 38,
     "metadata": {},
     "output_type": "execute_result"
    }
   ],
   "source": [
    "#Mean Squared Error\n",
    "MSE2=mean_squared_error(y_test, y_pred)\n",
    "MSE2"
   ]
  },
  {
   "cell_type": "code",
   "execution_count": 39,
   "metadata": {},
   "outputs": [
    {
     "data": {
      "text/plain": [
       "90.73562242286408"
      ]
     },
     "execution_count": 39,
     "metadata": {},
     "output_type": "execute_result"
    }
   ],
   "source": [
    "#Checking the R-squared on the test set\n",
    "\n",
    "r22 = r2_score(y_test, y_pred)*100\n",
    "r22"
   ]
  },
  {
   "cell_type": "code",
   "execution_count": 40,
   "metadata": {
    "scrolled": true
   },
   "outputs": [
    {
     "name": "stdout",
     "output_type": "stream",
     "text": [
      "RMSE of the Linear Regression model2 is 1.5376953350310438\n",
      "MAE of the Linear Regression model2 is 1.1919753277836755\n",
      "MSE of the Linear Regression model2 is 2.3645069433762345\n",
      "R2 of the Linear Regression model2 is 90.73562242286408\n"
     ]
    }
   ],
   "source": [
    "print(\"RMSE of the Linear Regression model2 is\" ,RMSE2)\n",
    "print(\"MAE of the Linear Regression model2 is\" ,MAE2)\n",
    "print(\"MSE of the Linear Regression model2 is\" ,MSE2)\n",
    "print(\"R2 of the Linear Regression model2 is\" ,r22)"
   ]
  },
  {
   "cell_type": "markdown",
   "metadata": {},
   "source": [
    "Visualize the palne of regression"
   ]
  },
  {
   "cell_type": "code",
   "execution_count": 41,
   "metadata": {},
   "outputs": [],
   "source": [
    "## Prepare the data for Visualization\n",
    "\n",
    "x_surf, y_surf = np.meshgrid(np.linspace(X_test.TV.min(), X_test.TV.max(), 100),np.linspace(X_test.Radio.min(), X_test.Radio.max(), 100))\n",
    "onlyX = pd.DataFrame({'TV': x_surf.ravel(), 'Radio': y_surf.ravel()})\n",
    "fittedY=model2.predict(onlyX)\n",
    "\n",
    "## convert the predicted result in an array\n",
    "fittedY=np.array(fittedY)\n"
   ]
  },
  {
   "cell_type": "code",
   "execution_count": 42,
   "metadata": {},
   "outputs": [
    {
     "data": {
      "image/png": "[encoded data removed]",
      "text/plain": [
       "<Figure size 432x288 with 1 Axes>"
      ]
     },
     "metadata": {
      "needs_background": "light"
     },
     "output_type": "display_data"
    }
   ],
   "source": [
    "# Visualize the Data for Multiple Linear Regression\n",
    "\n",
    "fig = plt.figure()\n",
    "ax = fig.add_subplot(111, projection='3d')\n",
    "ax.scatter(X_test['TV'],X_test['Radio'],y_test,c='green', marker='o', alpha=0.9)\n",
    "ax.plot_surface(x_surf,y_surf,fittedY.reshape(x_surf.shape), color='b', alpha=0.3)\n",
    "ax.set_xlabel('TV')\n",
    "ax.set_ylabel('Radio')\n",
    "ax.set_zlabel('Sales')\n",
    "plt.show()"
   ]
  },
  {
   "cell_type": "markdown",
   "metadata": {},
   "source": [
    "Visualize the actual and forecased sales"
   ]
  },
  {
   "cell_type": "code",
   "execution_count": 43,
   "metadata": {},
   "outputs": [
    {
     "data": {
      "text/plain": [
       "Text(0.5, 1.0, 'TV Radio')"
      ]
     },
     "execution_count": 43,
     "metadata": {},
     "output_type": "execute_result"
    },
    {
     "data": {
      "image/png": "[encoded data removed]",
      "text/plain": [
       "<Figure size 432x288 with 1 Axes>"
      ]
     },
     "metadata": {
      "needs_background": "light"
     },
     "output_type": "display_data"
    }
   ],
   "source": [
    "plt.scatter(y_test,y_pred)\n",
    "plt.xlabel('Actual sales ')\n",
    "plt.ylabel('forecased sales ')\n",
    "plt.title('TV Radio')"
   ]
  },
  {
   "cell_type": "markdown",
   "metadata": {},
   "source": [
    "# K-Folds Cross validation\n"
   ]
  },
  {
   "cell_type": "markdown",
   "metadata": {},
   "source": [
    "Check for the best fold using R-square"
   ]
  },
  {
   "cell_type": "code",
   "execution_count": 44,
   "metadata": {},
   "outputs": [
    {
     "name": "stdout",
     "output_type": "stream",
     "text": [
      "Scores of the Linear Regression for 3 folds: [90.45754865 84.99686472 93.86632443]\n",
      "Mean R-square score for 3 folds: 89.77357926437753\n",
      "***************************************************\n",
      "Scores of the Linear Regression for 4 folds: [90.49374287 89.21827733 85.72987244 93.49027805]\n",
      "Mean R-square score for 4 folds: 89.73304267206763\n",
      "***************************************************\n",
      "Scores of the Linear Regression for 5 folds: [87.49222345 92.28951512 82.32095756 91.66805445 93.28263368]\n",
      "Mean R-square score for 5 folds: 89.41067685091585\n",
      "***************************************************\n",
      "Scores of the Linear Regression for 6 folds: [86.90679811 91.2287206  89.98549968 81.07102942 96.2406304  91.19118679]\n",
      "Mean R-square score for 6 folds: 89.43731083326388\n",
      "***************************************************\n",
      "Scores of the Linear Regression for 7 folds: [86.41520432 92.58506276 88.58532378 86.89051194 84.69872952 95.95490893\n",
      " 88.35002002]\n",
      "Mean R-square score for 7 folds: 89.06853732378049\n",
      "***************************************************\n",
      "Scores of the Linear Regression for 8 folds: [87.81805759 91.80927901 90.77481278 86.92386361 83.83714449 88.80891156\n",
      " 94.9947354  90.86778327]\n",
      "Mean R-square score for 8 folds: 89.4793234622322\n",
      "***************************************************\n",
      "Scores of the Linear Regression for 9 folds: [87.0748241  91.7527656  89.87855928 90.5394384  85.98495233 79.54812201\n",
      " 95.52770173 94.78104981 90.37098126]\n",
      "Mean R-square score for 9 folds: 89.49537716848698\n",
      "***************************************************\n",
      "Scores of the Linear Regression for 10 folds: [82.75140661 90.41273095 93.89135743 90.87344762 84.12317628 81.27490121\n",
      " 87.22159322 95.48849781 94.59347732 90.77852137]\n",
      "Mean R-square score for 10 folds: 89.14091098246794\n",
      "***************************************************\n"
     ]
    }
   ],
   "source": [
    "# vary the number of folds\n",
    "k_list=[3,4,5,6,7,8,9,10]\n",
    "acc=[]\n",
    "acc1=[]\n",
    "#train model on various k-folds and record the accuracies\n",
    "for num in k_list:    \n",
    "    #create a new model object\n",
    "    LR = LinearRegression()\n",
    "    \n",
    "    folds = KFold(n_splits = num, shuffle = True, random_state = 1)\n",
    "    scores = cross_val_score(LR, X, y, scoring='r2', cv=folds)\n",
    "    scores = scores*100\n",
    "    #save the accuracy of the model\n",
    "    acc.append(scores)\n",
    "    acc1.append(scores.mean())\n",
    "    print(\"Scores of the Linear Regression for\" , num,\"folds:\",scores)\n",
    "    print(\"Mean R-square score for\" , num,\"folds:\",scores.mean())\n",
    "    print(\"***************************************************\")"
   ]
  },
  {
   "cell_type": "markdown",
   "metadata": {},
   "source": [
    "Check for the best fold using MSE"
   ]
  },
  {
   "cell_type": "code",
   "execution_count": 45,
   "metadata": {},
   "outputs": [
    {
     "name": "stdout",
     "output_type": "stream",
     "text": [
      "MSE of the Linear Regression for 3 folds: [2.62574249 4.07604003 1.7401001 ]\n",
      "Mean MSE for 3 folds: 2.8139608754592054\n",
      "***************************************************\n",
      "MSE of the Linear Regression for 4 folds: [2.27783001 3.28194819 3.80847101 1.90855049]\n",
      "Mean MSE for 4 folds: 2.8191999237204564\n",
      "***************************************************\n",
      "MSE of the Linear Regression for 5 folds: [2.4054948  2.94757187 4.74754663 1.85333922 2.04998864]\n",
      "Mean MSE for 5 folds: 2.8007882337615335\n",
      "***************************************************\n",
      "MSE of the Linear Regression for 6 folds: [2.29730874 3.13587276 2.8222131  5.08688708 1.22268646 2.13038033]\n",
      "Mean MSE for 6 folds: 2.782558076708048\n",
      "***************************************************\n",
      "MSE of the Linear Regression for 7 folds: [2.42610559 2.474011   3.53583237 3.53550267 4.18094725 1.53774756\n",
      " 2.11001792]\n",
      "Mean MSE for 7 folds: 2.8285949091519504\n",
      "***************************************************\n",
      "MSE of the Linear Regression for 8 folds: [2.15825037 2.46011778 3.59992488 2.85363977 5.46378478 2.1903449\n",
      " 1.91087709 1.82976601]\n",
      "Mean MSE for 8 folds: 2.80833819622129\n",
      "***************************************************\n",
      "MSE of the Linear Regression for 9 folds: [2.30846085 2.44423707 3.4269128  2.80895997 3.78051857 5.26734314\n",
      " 1.13591202 1.9600781  2.06673757]\n",
      "Mean MSE for 9 folds: 2.7999066769254153\n",
      "***************************************************\n",
      "MSE of the Linear Regression for 10 folds: [2.63542983 2.18937512 2.24921899 3.61538105 3.12068496 6.33497711\n",
      " 2.76139773 0.98916829 2.070044   2.09682361]\n",
      "Mean MSE for 10 folds: 2.8062500708993836\n",
      "***************************************************\n"
     ]
    }
   ],
   "source": [
    "# vary the number of folds\n",
    "k_list=[3,4,5,6,7,8,9,10]\n",
    "acc=[]\n",
    "acc2=[]\n",
    "#train model on various k-folds and record the accuracies\n",
    "for num in k_list:    \n",
    "    \n",
    "    #create a new model object\n",
    "    LR = LinearRegression()\n",
    "    \n",
    "    folds = KFold(n_splits = num, shuffle = True, random_state = 1)\n",
    "    scores = cross_val_score(LR, X, y, scoring='neg_mean_squared_error', cv=folds)\n",
    "    scores \n",
    "    scores=-scores\n",
    "    #save the accuracy of the model\n",
    "    acc.append(scores)\n",
    "    acc2.append(scores.mean())\n",
    "    print(\"MSE of the Linear Regression for\" , num,\"folds:\",scores)\n",
    "    print(\"Mean MSE for\" , num,\"folds:\",scores.mean())\n",
    "    print(\"***************************************************\")"
   ]
  },
  {
   "cell_type": "markdown",
   "metadata": {},
   "source": [
    "Mean R-square score for 3 folds: 0.8977357926437755   Mean MSE for 3 folds: 2.8139608754592054\n",
    "Mean R-square score for 4 folds: 0.8973304267206764   Mean MSE for 4 folds: 2.8191999237204564\n",
    "Mean R-square score for 5 folds: 0.8941067685091586   Mean MSE for 5 folds: 2.8007882337615335\n",
    "Mean R-square score for 6 folds: 0.8943731083326387   Mean MSE for 6 folds: 2.782558076708048\n",
    "Mean R-square score for 7 folds: 0.8906853732378052   Mean MSE for 7 folds: 2.8285949091519504\n",
    "Mean R-square score for 8 folds: 0.8947932346223221   Mean MSE for 8 folds: 2.80833819622129\n",
    "Mean R-square score for 9 folds: 0.8949537716848699   Mean MSE for 9 folds: 2.7999066769254153\n",
    "Mean R-square score for 10 folds: 0.891409109824679   Mean MSE for 10 folds: 2.8062500708993836"
   ]
  },
  {
   "cell_type": "code",
   "execution_count": 46,
   "metadata": {},
   "outputs": [
    {
     "data": {
      "text/plain": [
       "Text(0, 0.5, 'MSE')"
      ]
     },
     "execution_count": 46,
     "metadata": {},
     "output_type": "execute_result"
    },
    {
     "data": {
      "image/png": "[encoded data removed]",
      "text/plain": [
       "<Figure size 432x288 with 2 Axes>"
      ]
     },
     "metadata": {
      "needs_background": "light"
     },
     "output_type": "display_data"
    }
   ],
   "source": [
    "fig, axs = plt.subplots(2)\n",
    "fig.suptitle('Accuracy on different folds')\n",
    "axs[0].plot(k_list, acc1)\n",
    "axs[0].set_ylabel(\"R-Square\")\n",
    "axs[1].plot(k_list, acc2)\n",
    "axs[1].set_ylabel(\"MSE\")"
   ]
  },
  {
   "cell_type": "markdown",
   "metadata": {},
   "source": [
    "According to R-square and MSE, k=3"
   ]
  },
  {
   "cell_type": "markdown",
   "metadata": {},
   "source": [
    "# Try with different combination of two input variables"
   ]
  },
  {
   "cell_type": "markdown",
   "metadata": {},
   "source": [
    "Take TV and Newspaper as the input attribute"
   ]
  },
  {
   "cell_type": "code",
   "execution_count": 47,
   "metadata": {},
   "outputs": [],
   "source": [
    "X = df_advertising[['TV', 'Newspaper']]\n",
    "y = df_advertising.Sales"
   ]
  },
  {
   "cell_type": "markdown",
   "metadata": {},
   "source": [
    "Accuracy on training and testing data for different split"
   ]
  },
  {
   "cell_type": "code",
   "execution_count": 48,
   "metadata": {},
   "outputs": [
    {
     "name": "stdout",
     "output_type": "stream",
     "text": [
      "************************************************\n",
      "R-square at train data- 0.1 :  83.06303507763982\n",
      "R-square at test data- 0.1 :  66.59550103643693\n",
      "************************************************\n",
      "MSE  at train data- 0.1 :  4.890768749600906\n",
      "MSE  at test data- 0.1 :  5.103906801141768\n",
      "************************************************\n",
      "R-square at train data- 0.2 :  83.66859600396062\n",
      "R-square at test data- 0.2 :  72.61531414744891\n",
      "************************************************\n",
      "MSE  at train data- 0.2 :  4.821602058770689\n",
      "MSE  at test data- 0.2 :  5.2666210716197615\n",
      "************************************************\n",
      "R-square at train data- 0.3 :  82.82937134719344\n",
      "R-square at test data- 0.3 :  80.68542916996702\n",
      "************************************************\n",
      "MSE  at train data- 0.3 :  4.890378222893355\n",
      "MSE  at test data- 0.3 :  4.929574216475723\n",
      "************************************************\n",
      "R-square at train data- 0.4 :  80.14188612534761\n",
      "R-square at test data- 0.4 :  85.10735736091841\n",
      "************************************************\n",
      "MSE  at train data- 0.4 :  5.28534953705069\n",
      "MSE  at test data- 0.4 :  4.3399019903638205\n",
      "************************************************\n",
      "R-square at train data- 0.5 :  80.92578977007805\n",
      "R-square at test data- 0.5 :  83.37503043910418\n",
      "************************************************\n",
      "MSE  at train data- 0.5 :  5.342216296861069\n",
      "MSE  at test data- 0.5 :  4.545980055392776\n"
     ]
    }
   ],
   "source": [
    "# variable size of the test dataset\n",
    "test_list=[0.1, 0.2, 0.3, 0.4, 0.5]\n",
    "acc1=[]\n",
    "acc2=[]\n",
    "acc3=[]\n",
    "acc4=[]\n",
    "#train model on various train/test sets and record the accuracies\n",
    "for num in test_list:    \n",
    "    #split the dataset according to the value in the list\n",
    "    X_train, X_test, y_train, y_test = train_test_split(X, y, test_size=num, random_state=1)\n",
    "    \n",
    "    #create a new model object\n",
    "    LR = LinearRegression()\n",
    "    #train the model on the train data\n",
    "    LR.fit(X_train,y_train)\n",
    "    \n",
    "    #predict the values using trained model for training data\n",
    "    LRPredict = LR.predict(X_train)\n",
    "    \n",
    "    #evaluate the training accuracy of the model\n",
    "    r2 = r2_score(y_train, LRPredict)*100\n",
    "    MSE = mean_squared_error(y_train, LRPredict) \n",
    "    \n",
    "    #predict the values using testing model for training data\n",
    "    LRPredict = LR.predict(X_test)\n",
    "    \n",
    "    #evaluate the testing accuracy of the model\n",
    "    tr2 = r2_score(y_test, LRPredict)*100\n",
    "    tMSE = mean_squared_error(y_test, LRPredict)\n",
    "    \n",
    "    #save the accuracy of the model\n",
    "    acc1.append(r2)   #training R-Square\n",
    "    acc2.append(MSE)  #training MSE\n",
    "    acc3.append(tr2)   #testing R-square\n",
    "    acc4.append(tMSE)   #training MSE\n",
    "    print(\"************************************************\")\n",
    "    print(\"R-square at train data-\",num,\": \",r2) \n",
    "    print(\"R-square at test data-\",num,\": \",tr2)   \n",
    "    print(\"************************************************\")\n",
    "    print(\"MSE  at train data-\",num,\": \",MSE)\n",
    "    print(\"MSE  at test data-\",num,\": \",tMSE)"
   ]
  },
  {
   "cell_type": "markdown",
   "metadata": {},
   "source": [
    "Visualize the train and test accuracy using R-square"
   ]
  },
  {
   "cell_type": "code",
   "execution_count": 49,
   "metadata": {},
   "outputs": [
    {
     "data": {
      "image/png": "[encoded data removed]",
      "text/plain": [
       "<Figure size 432x288 with 1 Axes>"
      ]
     },
     "metadata": {
      "needs_background": "light"
     },
     "output_type": "display_data"
    }
   ],
   "source": [
    "plt.plot(test_list, acc1, color='r', label='R-Square_train')\n",
    "plt.plot(test_list, acc3, color='g', label='R-Square_test')\n",
    "  \n",
    "# Naming the x-axis, y-axis and the whole graph\n",
    "plt.xlabel(\"test_size\")\n",
    "plt.ylabel(\"R-Square\")\n",
    "plt.title(\"R-Square for different test size\")\n",
    "plt.legend()\n",
    "plt.show()"
   ]
  },
  {
   "cell_type": "markdown",
   "metadata": {},
   "source": [
    "According to R-square for test data, 0.4 is the test size"
   ]
  },
  {
   "cell_type": "markdown",
   "metadata": {},
   "source": [
    "Visualize the train and test accuracy using MSE"
   ]
  },
  {
   "cell_type": "code",
   "execution_count": 50,
   "metadata": {
    "scrolled": true
   },
   "outputs": [
    {
     "data": {
      "image/png": "[encoded data removed]",
      "text/plain": [
       "<Figure size 432x288 with 1 Axes>"
      ]
     },
     "metadata": {
      "needs_background": "light"
     },
     "output_type": "display_data"
    }
   ],
   "source": [
    "plt.plot(test_list, acc2, color='r', label='MSE_train')\n",
    "plt.plot(test_list, acc4, color='g', label='MSE_test')\n",
    "  \n",
    "# Naming the x-axis, y-axis and the whole graph\n",
    "plt.xlabel(\"test_size\")\n",
    "plt.ylabel(\"MSE\")\n",
    "plt.title(\"MSE for different test size\")\n",
    "plt.legend()\n",
    "plt.show()"
   ]
  },
  {
   "cell_type": "markdown",
   "metadata": {},
   "source": [
    "According to MSE for test data, 0.4 is the test size"
   ]
  },
  {
   "cell_type": "markdown",
   "metadata": {},
   "source": [
    "Insights: We will choose 0.40 as our test dataset size"
   ]
  },
  {
   "cell_type": "markdown",
   "metadata": {},
   "source": [
    "# Build a regression model using TV and Newspaper as input attribute"
   ]
  },
  {
   "cell_type": "code",
   "execution_count": 51,
   "metadata": {},
   "outputs": [],
   "source": [
    "X_train, X_test, y_train, y_test = train_test_split(X, y, train_size = 0.6, test_size = 0.4, random_state = 1)"
   ]
  },
  {
   "cell_type": "code",
   "execution_count": 52,
   "metadata": {},
   "outputs": [
    {
     "name": "stdout",
     "output_type": "stream",
     "text": [
      "6.222629440309596\n",
      "[0.05440187 0.02793172]\n"
     ]
    }
   ],
   "source": [
    "# instantiate and fit\n",
    "model3 = LinearRegression()\n",
    "model3 = model3.fit(X_train, y_train)\n",
    "\n",
    "# print the coefficients\n",
    "print(model3.intercept_)\n",
    "print(model3.coef_)"
   ]
  },
  {
   "cell_type": "markdown",
   "metadata": {},
   "source": [
    "Forecast on test data"
   ]
  },
  {
   "cell_type": "code",
   "execution_count": 53,
   "metadata": {},
   "outputs": [],
   "source": [
    "y_pred = model3.predict(X_test)"
   ]
  },
  {
   "cell_type": "code",
   "execution_count": 54,
   "metadata": {},
   "outputs": [
    {
     "data": {
      "text/plain": [
       "2.083243142401727"
      ]
     },
     "execution_count": 54,
     "metadata": {},
     "output_type": "execute_result"
    }
   ],
   "source": [
    "#Returns the mean squared error; we'll take a square root\n",
    "RMSE3=np.sqrt(mean_squared_error(y_test, y_pred))\n",
    "RMSE3"
   ]
  },
  {
   "cell_type": "code",
   "execution_count": 55,
   "metadata": {},
   "outputs": [
    {
     "data": {
      "text/plain": [
       "1.659685609454587"
      ]
     },
     "execution_count": 55,
     "metadata": {},
     "output_type": "execute_result"
    }
   ],
   "source": [
    "#Mean Absolute Error\n",
    "MAE3=mean_absolute_error(y_test, y_pred)\n",
    "MAE3"
   ]
  },
  {
   "cell_type": "code",
   "execution_count": 56,
   "metadata": {},
   "outputs": [
    {
     "data": {
      "text/plain": [
       "4.3399019903638205"
      ]
     },
     "execution_count": 56,
     "metadata": {},
     "output_type": "execute_result"
    }
   ],
   "source": [
    "#Mean Squared Error\n",
    "MSE3=mean_squared_error(y_test, y_pred)\n",
    "MSE3"
   ]
  },
  {
   "cell_type": "code",
   "execution_count": 57,
   "metadata": {},
   "outputs": [
    {
     "data": {
      "text/plain": [
       "85.10735736091841"
      ]
     },
     "execution_count": 57,
     "metadata": {},
     "output_type": "execute_result"
    }
   ],
   "source": [
    "#Checking the R-squared on the test set\n",
    "\n",
    "r23 = r2_score(y_test, y_pred)*100\n",
    "r23"
   ]
  },
  {
   "cell_type": "code",
   "execution_count": 58,
   "metadata": {},
   "outputs": [
    {
     "name": "stdout",
     "output_type": "stream",
     "text": [
      "RMSE of the Linear Regression model3 is 2.083243142401727\n",
      "MAE of the Linear Regression model3 is 1.659685609454587\n",
      "MSE of the Linear Regression model3 is 4.3399019903638205\n",
      "R2 of the Linear Regression model3 is 85.10735736091841\n"
     ]
    }
   ],
   "source": [
    "print(\"RMSE of the Linear Regression model3 is\" ,RMSE3)\n",
    "print(\"MAE of the Linear Regression model3 is\" ,MAE3)\n",
    "print(\"MSE of the Linear Regression model3 is\" ,MSE3)\n",
    "print(\"R2 of the Linear Regression model3 is\" ,r23)"
   ]
  },
  {
   "cell_type": "markdown",
   "metadata": {},
   "source": [
    "Visualize the plane of regression"
   ]
  },
  {
   "cell_type": "code",
   "execution_count": 59,
   "metadata": {},
   "outputs": [],
   "source": [
    "## Prepare the data for Visualization\n",
    "\n",
    "x_surf, y_surf = np.meshgrid(np.linspace(X_test.TV.min(), X_test.TV.max(), 100),np.linspace(X_test.Newspaper.min(), X_test.Newspaper.max(), 100))\n",
    "onlyX = pd.DataFrame({'TV': x_surf.ravel(), 'Newspaper': y_surf.ravel()})\n",
    "fittedY=model3.predict(onlyX)\n",
    "\n",
    "## convert the predicted result in an array\n",
    "fittedY=np.array(fittedY)"
   ]
  },
  {
   "cell_type": "code",
   "execution_count": 60,
   "metadata": {},
   "outputs": [
    {
     "data": {
      "image/png": "[encoded data removed]",
      "text/plain": [
       "<Figure size 432x288 with 1 Axes>"
      ]
     },
     "metadata": {
      "needs_background": "light"
     },
     "output_type": "display_data"
    }
   ],
   "source": [
    "# Visualize the Data for Multiple Linear Regression\n",
    "\n",
    "fig = plt.figure()\n",
    "ax = fig.add_subplot(111, projection='3d')\n",
    "ax.scatter(X_test['TV'],X_test['Newspaper'],y_test,c='red', marker='o', alpha=0.7)\n",
    "ax.plot_surface(x_surf,y_surf,fittedY.reshape(x_surf.shape), color='b', alpha=0.3)\n",
    "ax.set_xlabel('TV')\n",
    "ax.set_ylabel('Newspaper')\n",
    "ax.set_zlabel('Sales')\n",
    "plt.show()"
   ]
  },
  {
   "cell_type": "markdown",
   "metadata": {},
   "source": [
    "Visualize the actual and forecased sales"
   ]
  },
  {
   "cell_type": "code",
   "execution_count": 61,
   "metadata": {},
   "outputs": [
    {
     "data": {
      "text/plain": [
       "Text(0.5, 1.0, 'TV Newspaper')"
      ]
     },
     "execution_count": 61,
     "metadata": {},
     "output_type": "execute_result"
    },
    {
     "data": {
      "image/png": "[encoded data removed]",
      "text/plain": [
       "<Figure size 432x288 with 1 Axes>"
      ]
     },
     "metadata": {
      "needs_background": "light"
     },
     "output_type": "display_data"
    }
   ],
   "source": [
    "plt.scatter(y_test,y_pred)\n",
    "plt.xlabel('Actual sales ')\n",
    "plt.ylabel('forecased sales ')\n",
    "plt.title('TV Newspaper')"
   ]
  },
  {
   "cell_type": "markdown",
   "metadata": {},
   "source": [
    "# k-fold Cross validation"
   ]
  },
  {
   "cell_type": "markdown",
   "metadata": {},
   "source": [
    "Check for the best fold using R-square"
   ]
  },
  {
   "cell_type": "code",
   "execution_count": 62,
   "metadata": {},
   "outputs": [
    {
     "name": "stdout",
     "output_type": "stream",
     "text": [
      "Scores of the Linear Regression for 3 folds: [83.1173394  80.93019362 82.21396253]\n",
      "Mean R-square score for 3 folds: 82.08716518175252\n",
      "***************************************************\n",
      "Scores of the Linear Regression for 4 folds: [78.43923497 87.52025781 79.47961415 80.9755191 ]\n",
      "Mean R-square score for 4 folds: 81.60365650768213\n",
      "***************************************************\n",
      "Scores of the Linear Regression for 5 folds: [72.61531415 90.52263579 78.17917748 81.06665012 80.54058915]\n",
      "Mean R-square score for 5 folds: 80.58487333782723\n",
      "***************************************************\n",
      "Scores of the Linear Regression for 6 folds: [71.16110586 87.77633651 85.37949734 75.16028105 87.54210465 74.81642627]\n",
      "Mean R-square score for 6 folds: 80.30595861290901\n",
      "***************************************************\n",
      "Scores of the Linear Regression for 7 folds: [74.50409348 82.38379399 90.39339057 77.81657668 82.74500072 84.88414529\n",
      " 69.52428841]\n",
      "Mean R-square score for 7 folds: 80.32161273467149\n",
      "***************************************************\n",
      "Scores of the Linear Regression for 8 folds: [75.84825116 78.24754845 91.52984316 79.96765409 79.56935957 79.60658139\n",
      " 85.14869721 71.03888825]\n",
      "Mean R-square score for 8 folds: 80.11960290858418\n",
      "***************************************************\n",
      "Scores of the Linear Regression for 9 folds: [74.78730295 81.40724695 87.42106876 89.06850784 75.94615224 76.67996902\n",
      " 87.2024275  84.5120962  69.74245087]\n",
      "Mean R-square score for 9 folds: 80.7519135935472\n",
      "***************************************************\n",
      "Scores of the Linear Regression for 10 folds: [66.59550104 74.60728199 87.76798235 93.5842472  75.02528147 79.14521229\n",
      " 80.12520011 80.96591966 85.77129652 69.82902195]\n",
      "Mean R-square score for 10 folds: 79.3416944578648\n",
      "***************************************************\n"
     ]
    }
   ],
   "source": [
    "# vary the number of folds\n",
    "k_list=[3,4,5,6,7,8,9,10]\n",
    "acc=[]\n",
    "acc1=[]\n",
    "#train model on various k-folds and record the accuracies\n",
    "for num in k_list:    \n",
    "    #create a new model object\n",
    "    LR = LinearRegression()\n",
    "    \n",
    "    folds = KFold(n_splits = num, shuffle = True, random_state = 1)\n",
    "    scores = cross_val_score(LR, X, y, scoring='r2', cv=folds)\n",
    "    scores = scores*100\n",
    "    #save the accuracy of the model\n",
    "    acc.append(scores)\n",
    "    acc1.append(scores.mean())\n",
    "    print(\"Scores of the Linear Regression for\" , num,\"folds:\",scores)\n",
    "    print(\"Mean R-square score for\" , num,\"folds:\",scores.mean())\n",
    "    print(\"***************************************************\")"
   ]
  },
  {
   "cell_type": "markdown",
   "metadata": {},
   "source": [
    "Check for the best fold using MSE\n"
   ]
  },
  {
   "cell_type": "code",
   "execution_count": 63,
   "metadata": {},
   "outputs": [
    {
     "name": "stdout",
     "output_type": "stream",
     "text": [
      "MSE of the Linear Regression for 3 folds: [4.64550645 5.18087004 5.04583023]\n",
      "Mean MSE for 3 folds: 4.957402244347851\n",
      "***************************************************\n",
      "MSE of the Linear Regression for 4 folds: [5.16625598 3.79882404 5.47656594 5.57768558]\n",
      "Mean MSE for 4 folds: 5.004832884840358\n",
      "***************************************************\n",
      "MSE of the Linear Regression for 5 folds: [5.26662107 3.62301627 5.85978414 4.21149175 5.93857314]\n",
      "Mean MSE for 5 folds: 4.979897272187188\n",
      "***************************************************\n",
      "MSE of the Linear Regression for 6 folds: [5.06001848 4.37015532 4.12024292 6.67531522 4.05176973 6.09055827]\n",
      "Mean MSE for 6 folds: 5.0613433243448736\n",
      "***************************************************\n",
      "MSE of the Linear Regression for 7 folds: [4.55330819 5.87768798 2.97576207 5.98265561 4.71478769 5.7463153\n",
      " 5.51969169]\n",
      "Mean MSE for 7 folds: 5.052886934292576\n",
      "***************************************************\n",
      "MSE of the Linear Regression for 8 folds: [4.27891704 6.53344105 3.30529101 4.37171173 6.90649137 3.99144557\n",
      " 5.66983296 5.80275956]\n",
      "Mean MSE for 8 folds: 5.107486286931493\n",
      "***************************************************\n",
      "MSE of the Linear Regression for 9 folds: [4.50303535 5.51034371 4.25896882 3.2456978  6.48845586 6.00603061\n",
      " 3.25043534 5.81678307 6.49437032]\n",
      "Mean MSE for 9 folds: 5.063791209093833\n",
      "***************************************************\n",
      "MSE of the Linear Regression for 10 folds: [5.1039068  5.79875091 4.50386254 2.54152829 4.90893077 7.05548229\n",
      " 4.29491941 4.17331253 5.44787176 6.8604203 ]\n",
      "Mean MSE for 10 folds: 5.068898561316641\n",
      "***************************************************\n"
     ]
    }
   ],
   "source": [
    "# vary the number of folds\n",
    "k_list=[3,4,5,6,7,8,9,10]\n",
    "acc=[]\n",
    "acc2=[]\n",
    "#train model on various k-folds and record the accuracies\n",
    "for num in k_list:    \n",
    "    \n",
    "    #create a new model object\n",
    "    LR = LinearRegression()\n",
    "    \n",
    "    folds = KFold(n_splits = num, shuffle = True, random_state = 1)\n",
    "    scores = cross_val_score(LR, X, y, scoring='neg_mean_squared_error', cv=folds)\n",
    "    scores \n",
    "    scores=-scores\n",
    "    #save the accuracy of the model\n",
    "    acc.append(scores)\n",
    "    acc2.append(scores.mean())\n",
    "    print(\"MSE of the Linear Regression for\" , num,\"folds:\",scores)\n",
    "    print(\"Mean MSE for\" , num,\"folds:\",scores.mean())\n",
    "    print(\"***************************************************\")"
   ]
  },
  {
   "cell_type": "markdown",
   "metadata": {},
   "source": [
    "Visualise the accuracy for differet folds"
   ]
  },
  {
   "cell_type": "code",
   "execution_count": 64,
   "metadata": {},
   "outputs": [
    {
     "data": {
      "text/plain": [
       "Text(0, 0.5, 'MSE')"
      ]
     },
     "execution_count": 64,
     "metadata": {},
     "output_type": "execute_result"
    },
    {
     "data": {
      "image/png": "[encoded data removed]",
      "text/plain": [
       "<Figure size 432x288 with 2 Axes>"
      ]
     },
     "metadata": {
      "needs_background": "light"
     },
     "output_type": "display_data"
    }
   ],
   "source": [
    "fig, axs = plt.subplots(2)\n",
    "fig.suptitle('Accuracy on different folds')\n",
    "axs[0].plot(k_list, acc1)\n",
    "axs[0].set_ylabel(\"R-Square\")\n",
    "axs[1].plot(k_list, acc2)\n",
    "axs[1].set_ylabel(\"MSE\")"
   ]
  },
  {
   "cell_type": "markdown",
   "metadata": {},
   "source": [
    "Insights: We got the highest R-sqaure and lowest MSE for k=3 "
   ]
  },
  {
   "cell_type": "markdown",
   "metadata": {},
   "source": [
    "# Try with three input features"
   ]
  },
  {
   "cell_type": "code",
   "execution_count": 65,
   "metadata": {},
   "outputs": [],
   "source": [
    "feature_cols = ['TV', 'Radio', 'Newspaper']\n",
    "X = df_advertising[feature_cols]\n",
    "y = df_advertising[[\"Sales\"]]"
   ]
  },
  {
   "cell_type": "markdown",
   "metadata": {},
   "source": [
    "Accuracy on training and testing data for different split"
   ]
  },
  {
   "cell_type": "code",
   "execution_count": 66,
   "metadata": {},
   "outputs": [
    {
     "name": "stdout",
     "output_type": "stream",
     "text": [
      "************************************************\n",
      "R-square at train data- 0.1 :  90.58753277891533\n",
      "R-square at test data- 0.1 :  82.4136059831796\n",
      "************************************************\n",
      "MSE  at train data- 0.1 :  2.717972243111247\n",
      "MSE  at test data- 0.1 :  2.6870427282240064\n",
      "************************************************\n",
      "R-square at train data- 0.2 :  90.5486333977187\n",
      "R-square at test data- 0.2 :  87.47226291661848\n",
      "************************************************\n",
      "MSE  at train data- 0.2 :  2.7903742188245175\n",
      "MSE  at test data- 0.2 :  2.4093336128923672\n",
      "************************************************\n",
      "R-square at train data- 0.3 :  89.93745840124558\n",
      "R-square at test data- 0.3 :  90.71151423684273\n",
      "************************************************\n",
      "MSE  at train data- 0.3 :  2.865919198215475\n",
      "MSE  at test data- 0.3 :  2.370659971225657\n",
      "************************************************\n",
      "R-square at train data- 0.4 :  89.48729986516656\n",
      "R-square at test data- 0.4 :  91.15353314340993\n",
      "************************************************\n",
      "MSE  at train data- 0.4 :  2.7980147128533495\n",
      "MSE  at test data- 0.4 :  2.5779708846200102\n",
      "************************************************\n",
      "R-square at train data- 0.5 :  90.26611359788856\n",
      "R-square at test data- 0.5 :  89.99316102803199\n",
      "************************************************\n",
      "MSE  at train data- 0.5 :  2.7262217382704637\n",
      "MSE  at test data- 0.5 :  2.7362991683963376\n"
     ]
    }
   ],
   "source": [
    "# variable size of the test dataset\n",
    "test_list=[0.1, 0.2, 0.3, 0.4, 0.5]\n",
    "acc1=[]\n",
    "acc2=[]\n",
    "acc3=[]\n",
    "acc4=[]\n",
    "#train model on various train/test sets and record the accuracies\n",
    "for num in test_list:    \n",
    "    #split the dataset according to the value in the list\n",
    "    X_train, X_test, y_train, y_test = train_test_split(X, y, test_size=num, random_state=1)\n",
    "    \n",
    "    #create a new model object\n",
    "    LR = LinearRegression()\n",
    "    #train the model on the train data\n",
    "    LR.fit(X_train,y_train)\n",
    "    \n",
    "    #predict the values using trained model for training data\n",
    "    LRPredict = LR.predict(X_train)\n",
    "    \n",
    "    #evaluate the training accuracy of the model\n",
    "    r2 = r2_score(y_train, LRPredict)*100\n",
    "    MSE = mean_squared_error(y_train, LRPredict) \n",
    "    \n",
    "    #predict the values using testing model for training data\n",
    "    LRPredict = LR.predict(X_test)\n",
    "    \n",
    "    #evaluate the testing accuracy of the model\n",
    "    tr2 = r2_score(y_test, LRPredict)*100\n",
    "    tMSE = mean_squared_error(y_test, LRPredict)\n",
    "    \n",
    "    #save the accuracy of the model\n",
    "    acc1.append(r2)   #training R-Square\n",
    "    acc2.append(MSE)  #training MSE\n",
    "    acc3.append(tr2)   #testing R-square\n",
    "    acc4.append(tMSE)   #training MSE\n",
    "    print(\"************************************************\")\n",
    "    print(\"R-square at train data-\",num,\": \",r2) \n",
    "    print(\"R-square at test data-\",num,\": \",tr2)   \n",
    "    print(\"************************************************\")\n",
    "    print(\"MSE  at train data-\",num,\": \",MSE)\n",
    "    print(\"MSE  at test data-\",num,\": \",tMSE)"
   ]
  },
  {
   "cell_type": "markdown",
   "metadata": {},
   "source": [
    "Visualize the train and test accuracy using R-square"
   ]
  },
  {
   "cell_type": "code",
   "execution_count": 67,
   "metadata": {},
   "outputs": [
    {
     "data": {
      "image/png": "[encoded data removed]",
      "text/plain": [
       "<Figure size 432x288 with 1 Axes>"
      ]
     },
     "metadata": {
      "needs_background": "light"
     },
     "output_type": "display_data"
    }
   ],
   "source": [
    "plt.plot(test_list, acc1, color='r', label='R-Square_train')\n",
    "plt.plot(test_list, acc3, color='g', label='R-Square_test')\n",
    "  \n",
    "# Naming the x-axis, y-axis and the whole graph\n",
    "plt.xlabel(\"test_size\")\n",
    "plt.ylabel(\"R-Square\")\n",
    "plt.title(\"R-Square for different test size\")\n",
    "plt.legend()\n",
    "plt.show()"
   ]
  },
  {
   "cell_type": "markdown",
   "metadata": {},
   "source": [
    "R-square is highest for test size 0.4"
   ]
  },
  {
   "cell_type": "markdown",
   "metadata": {},
   "source": [
    "Visualize the train and test accuracy using MSE"
   ]
  },
  {
   "cell_type": "code",
   "execution_count": 68,
   "metadata": {},
   "outputs": [
    {
     "data": {
      "image/png": "[encoded data removed]",
      "text/plain": [
       "<Figure size 432x288 with 1 Axes>"
      ]
     },
     "metadata": {
      "needs_background": "light"
     },
     "output_type": "display_data"
    }
   ],
   "source": [
    "plt.plot(test_list, acc2, color='r', label='MSE_train')\n",
    "plt.plot(test_list, acc4, color='g', label='MSE_test')\n",
    "  \n",
    "# Naming the x-axis, y-axis and the whole graph\n",
    "plt.xlabel(\"test_size\")\n",
    "plt.ylabel(\"MSE\")\n",
    "plt.title(\"MSE for different test size\")\n",
    "plt.legend()\n",
    "plt.show()"
   ]
  },
  {
   "cell_type": "markdown",
   "metadata": {},
   "source": [
    "MSE is lowest for 0.3 test size"
   ]
  },
  {
   "cell_type": "markdown",
   "metadata": {},
   "source": [
    "Insights: We will choose 0.30 as our test dataset size based on R-square and MSE trade-off"
   ]
  },
  {
   "cell_type": "markdown",
   "metadata": {},
   "source": [
    "# Build a regression model using TV, Radio and Newspaper as input attribute"
   ]
  },
  {
   "cell_type": "code",
   "execution_count": 69,
   "metadata": {},
   "outputs": [],
   "source": [
    "X_train, X_test, y_train, y_test = train_test_split(X, y, train_size = 0.7, test_size = 0.3, random_state = 1)"
   ]
  },
  {
   "cell_type": "code",
   "execution_count": 70,
   "metadata": {},
   "outputs": [
    {
     "name": "stdout",
     "output_type": "stream",
     "text": [
      "[4.66143972]\n",
      "[[ 0.05502392  0.10251003 -0.00150711]]\n"
     ]
    }
   ],
   "source": [
    "# instantiate and fit\n",
    "model4 = LinearRegression()\n",
    "model4 = model4.fit(X_train, y_train)\n",
    "\n",
    "# print the coefficients\n",
    "print(model4.intercept_) #this is the intercept \n",
    "print(model4.coef_)      #this is the coefficient"
   ]
  },
  {
   "cell_type": "markdown",
   "metadata": {},
   "source": [
    "Forecast on test data"
   ]
  },
  {
   "cell_type": "code",
   "execution_count": 71,
   "metadata": {},
   "outputs": [],
   "source": [
    "y_pred = model4.predict(X_test)"
   ]
  },
  {
   "cell_type": "code",
   "execution_count": 72,
   "metadata": {},
   "outputs": [
    {
     "data": {
      "text/plain": [
       "1.5396947656031235"
      ]
     },
     "execution_count": 72,
     "metadata": {},
     "output_type": "execute_result"
    }
   ],
   "source": [
    "#Returns the mean squared error; we'll take a square root\n",
    "RMSE4=np.sqrt(mean_squared_error(y_test, y_pred))\n",
    "RMSE4"
   ]
  },
  {
   "cell_type": "code",
   "execution_count": 73,
   "metadata": {},
   "outputs": [
    {
     "data": {
      "text/plain": [
       "1.1947417134056744"
      ]
     },
     "execution_count": 73,
     "metadata": {},
     "output_type": "execute_result"
    }
   ],
   "source": [
    "#Mean Absolute Error\n",
    "MAE4=mean_absolute_error(y_test, y_pred)\n",
    "MAE4"
   ]
  },
  {
   "cell_type": "code",
   "execution_count": 74,
   "metadata": {},
   "outputs": [
    {
     "data": {
      "text/plain": [
       "2.370659971225657"
      ]
     },
     "execution_count": 74,
     "metadata": {},
     "output_type": "execute_result"
    }
   ],
   "source": [
    "# Mean Squared Error\n",
    "MSE4=mean_squared_error(y_test, y_pred)\n",
    "MSE4\n"
   ]
  },
  {
   "cell_type": "code",
   "execution_count": 75,
   "metadata": {},
   "outputs": [
    {
     "data": {
      "text/plain": [
       "90.71151423684273"
      ]
     },
     "execution_count": 75,
     "metadata": {},
     "output_type": "execute_result"
    }
   ],
   "source": [
    "#Checking the R-squared on the test set\n",
    "\n",
    "r24 = r2_score(y_test, y_pred)*100\n",
    "r24"
   ]
  },
  {
   "cell_type": "code",
   "execution_count": 76,
   "metadata": {},
   "outputs": [
    {
     "name": "stdout",
     "output_type": "stream",
     "text": [
      "RMSE of the Linear Regression model4 is 1.5396947656031235\n",
      "MAE of the Linear Regression model4 is 1.1947417134056744\n",
      "MSE of the Linear Regression model4 is 2.370659971225657\n",
      "R2 of the Linear Regression model4 is 90.71151423684273\n"
     ]
    }
   ],
   "source": [
    "print(\"RMSE of the Linear Regression model4 is\" ,RMSE4)\n",
    "print(\"MAE of the Linear Regression model4 is\" ,MAE4)\n",
    "print(\"MSE of the Linear Regression model4 is\" ,MSE4)\n",
    "print(\"R2 of the Linear Regression model4 is\" ,r24)"
   ]
  },
  {
   "cell_type": "markdown",
   "metadata": {},
   "source": [
    "Visualize the actual and forecased sales"
   ]
  },
  {
   "cell_type": "code",
   "execution_count": 77,
   "metadata": {},
   "outputs": [
    {
     "data": {
      "text/plain": [
       "Text(0.5, 1.0, 'TV Radio Newspaper')"
      ]
     },
     "execution_count": 77,
     "metadata": {},
     "output_type": "execute_result"
    },
    {
     "data": {
      "image/png": "[encoded data removed]",
      "text/plain": [
       "<Figure size 432x288 with 1 Axes>"
      ]
     },
     "metadata": {
      "needs_background": "light"
     },
     "output_type": "display_data"
    }
   ],
   "source": [
    "plt.scatter(y_test,y_pred)\n",
    "plt.xlabel('Actual sales ')\n",
    "plt.ylabel('forecased sales ')\n",
    "plt.title('TV Radio Newspaper')"
   ]
  },
  {
   "cell_type": "markdown",
   "metadata": {},
   "source": [
    "# k-fold Cross validation"
   ]
  },
  {
   "cell_type": "markdown",
   "metadata": {},
   "source": [
    "Check for the best fold using R-square\n"
   ]
  },
  {
   "cell_type": "code",
   "execution_count": 78,
   "metadata": {},
   "outputs": [
    {
     "name": "stdout",
     "output_type": "stream",
     "text": [
      "Scores of the Linear Regression for 3 folds: [90.40193074 84.95369288 93.60281237]\n",
      "Mean R-square score for 3 folds: 89.65281199653457\n",
      "***************************************************\n",
      "Scores of the Linear Regression for 4 folds: [90.48917241 89.16733685 85.11778652 93.08649167]\n",
      "Mean R-square score for 4 folds: 89.46519686269164\n",
      "***************************************************\n",
      "Scores of the Linear Regression for 5 folds: [87.47226292 92.28810501 82.27475367 91.62185292 92.87790725]\n",
      "Mean R-square score for 5 folds: 89.30697635284004\n",
      "***************************************************\n",
      "Scores of the Linear Regression for 6 folds: [86.84382004 91.22827922 89.61052907 80.20669641 96.24096556 90.68668236]\n",
      "Mean R-square score for 6 folds: 89.1361621077645\n",
      "***************************************************\n",
      "Scores of the Linear Regression for 7 folds: [86.17035641 92.54764736 88.37558431 86.87144576 84.26846895 95.88791463\n",
      " 88.0484723 ]\n",
      "Mean R-square score for 7 folds: 88.8814128179613\n",
      "***************************************************\n",
      "Scores of the Linear Regression for 8 folds: [87.44253735 91.51089624 90.70945763 86.47364021 83.40577718 88.7220804\n",
      " 94.79999454 90.70865742]\n",
      "Mean R-square score for 8 folds: 89.22163012171939\n",
      "***************************************************\n",
      "Scores of the Linear Regression for 9 folds: [86.66312263 91.61772719 89.87677786 90.46080627 85.98521554 79.04032022\n",
      " 95.51929884 94.54392924 90.22397302]\n",
      "Mean R-square score for 9 folds: 89.3256856446447\n",
      "***************************************************\n",
      "Scores of the Linear Regression for 10 folds: [82.41360598 90.25165323 93.89123101 90.86249954 83.77100707 80.79690572\n",
      " 87.20548206 95.47584225 94.44046449 90.53677127]\n",
      "Mean R-square score for 10 folds: 88.96454626113616\n",
      "***************************************************\n"
     ]
    }
   ],
   "source": [
    "# vary the number of folds\n",
    "k_list=[3,4,5,6,7,8,9,10]\n",
    "acc=[]\n",
    "acc1=[]\n",
    "#train model on various k-folds and record the accuracies\n",
    "for num in k_list:    \n",
    "    #create a new model object\n",
    "    LR = LinearRegression()\n",
    "    \n",
    "    folds = KFold(n_splits = num, shuffle = True, random_state = 1)\n",
    "    scores = cross_val_score(LR, X, y, scoring='r2', cv=folds)\n",
    "    scores=scores*100 \n",
    "    #save the accuracy of the model\n",
    "    acc.append(scores)\n",
    "    acc1.append(scores.mean())\n",
    "    print(\"Scores of the Linear Regression for\" , num,\"folds:\",scores)\n",
    "    print(\"Mean R-square score for\" , num,\"folds:\",scores.mean())\n",
    "    print(\"***************************************************\")"
   ]
  },
  {
   "cell_type": "markdown",
   "metadata": {},
   "source": [
    "Check for the best fold using MSE\n"
   ]
  },
  {
   "cell_type": "code",
   "execution_count": 79,
   "metadata": {},
   "outputs": [
    {
     "name": "stdout",
     "output_type": "stream",
     "text": [
      "MSE of the Linear Regression for 3 folds: [2.64104656 4.08776892 1.81485746]\n",
      "Mean MSE for 3 folds: 2.84789097926615\n",
      "***************************************************\n",
      "MSE of the Linear Regression for 4 folds: [2.27892516 3.29745443 3.97182704 2.02693445]\n",
      "Mean MSE for 4 folds: 2.8937852709985585\n",
      "***************************************************\n",
      "MSE of the Linear Regression for 5 folds: [2.40933361 2.94811093 4.75995427 1.86361619 2.17350201]\n",
      "Mean MSE for 5 folds: 2.8309034019022348\n",
      "***************************************************\n",
      "MSE of the Linear Regression for 6 folds: [2.30835875 3.13603056 2.92788457 5.31916407 1.22257746 2.25239295]\n",
      "Mean MSE for 6 folds: 2.861068058436882\n",
      "***************************************************\n",
      "MSE of the Linear Regression for 7 folds: [2.46983292 2.48649474 3.60080167 3.54064463 4.29851244 1.56321555\n",
      " 2.16463356]\n",
      "Mean MSE for 7 folds: 2.874876501847553\n",
      "***************************************************\n",
      "MSE of the Linear Regression for 8 folds: [2.22478054 2.54973831 3.62542828 2.95189321 5.60960666 2.20733969\n",
      " 1.98522397 1.86164908]\n",
      "Mean MSE for 8 folds: 2.8769574674282477\n",
      "***************************************************\n",
      "MSE of the Linear Regression for 9 folds: [2.38199151 2.48425847 3.42751595 2.83230684 3.78044757 5.39812655\n",
      " 1.13804625 2.04913334 2.09829088]\n",
      "Mean MSE for 9 folds: 2.8433463746740375\n",
      "***************************************************\n",
      "MSE of the Linear Regression for 10 folds: [2.68704273 2.22615928 2.24926554 3.61971801 3.18990593 6.49669004\n",
      " 2.76487933 0.99194308 2.1286294  2.1517939 ]\n",
      "Mean MSE for 10 folds: 2.85060272388435\n",
      "***************************************************\n"
     ]
    }
   ],
   "source": [
    "# vary the number of folds\n",
    "k_list=[3,4,5,6,7,8,9,10]\n",
    "acc=[]\n",
    "acc2=[]\n",
    "#train model on various k-folds and record the accuracies\n",
    "for num in k_list:    \n",
    "    \n",
    "    #create a new model object\n",
    "    LR = LinearRegression()\n",
    "    \n",
    "    folds = KFold(n_splits = num, shuffle = True, random_state = 1)\n",
    "    scores = cross_val_score(LR, X, y, scoring='neg_mean_squared_error', cv=folds)\n",
    "    scores \n",
    "    scores=-scores\n",
    "    #save the accuracy of the model\n",
    "    acc.append(scores)\n",
    "    acc2.append(scores.mean())\n",
    "    print(\"MSE of the Linear Regression for\" , num,\"folds:\",scores)\n",
    "    print(\"Mean MSE for\" , num,\"folds:\",scores.mean())\n",
    "    print(\"***************************************************\")"
   ]
  },
  {
   "cell_type": "code",
   "execution_count": 80,
   "metadata": {},
   "outputs": [
    {
     "data": {
      "text/plain": [
       "Text(0, 0.5, 'MSE')"
      ]
     },
     "execution_count": 80,
     "metadata": {},
     "output_type": "execute_result"
    },
    {
     "data": {
      "image/png": "[encoded data removed]",
      "text/plain": [
       "<Figure size 432x288 with 2 Axes>"
      ]
     },
     "metadata": {
      "needs_background": "light"
     },
     "output_type": "display_data"
    }
   ],
   "source": [
    "fig, axs = plt.subplots(2)\n",
    "fig.suptitle('Accuracy on different folds')\n",
    "axs[0].plot(k_list, acc1)\n",
    "axs[0].set_ylabel(\"R-Square\")\n",
    "axs[1].plot(k_list, acc2)\n",
    "axs[1].set_ylabel(\"MSE\")"
   ]
  },
  {
   "cell_type": "markdown",
   "metadata": {},
   "source": [
    "According to R-square k=3"
   ]
  },
  {
   "cell_type": "markdown",
   "metadata": {},
   "source": [
    "# Performance Comparison of developed models"
   ]
  },
  {
   "cell_type": "code",
   "execution_count": 81,
   "metadata": {},
   "outputs": [
    {
     "data": {
      "image/png": "[encoded data removed]",
      "text/plain": [
       "<Figure size 720x360 with 1 Axes>"
      ]
     },
     "metadata": {
      "needs_background": "light"
     },
     "output_type": "display_data"
    }
   ],
   "source": [
    "#Compare the performance of all the models collectively\n",
    "data = {'TV':RMSE1, 'TV+Radio':RMSE2, 'TV+Newspaper':RMSE3,\n",
    "        'TV+Radio+Newspaper':RMSE4}\n",
    "\n",
    "models = list(data.keys())\n",
    "values = list(data.values())\n",
    "fig = plt.figure(figsize = (10, 5))\n",
    " \n",
    "# creating the bar plot\n",
    "plt.bar(models, values, color ='maroon',\n",
    "       width = 0.4)\n",
    "    \n",
    "plt.xticks(rotation=45)\n",
    "plt.xlabel(\"Models\")\n",
    "plt.ylabel(\"Roor mean square error\")\n",
    "plt.title(\"Performance comparison\")\n",
    "plt.show()"
   ]
  },
  {
   "cell_type": "code",
   "execution_count": 82,
   "metadata": {},
   "outputs": [
    {
     "data": {
      "image/png": "[encoded data removed]",
      "text/plain": [
       "<Figure size 720x360 with 1 Axes>"
      ]
     },
     "metadata": {
      "needs_background": "light"
     },
     "output_type": "display_data"
    }
   ],
   "source": [
    "#Compare the performance of all the models collectively\n",
    "data = {'TV':MAE1, 'TV+Radio':MAE2, 'TV+Newspaper':MAE3,\n",
    "        'TV+Radio+Newspaper':MAE4}\n",
    "\n",
    "models = list(data.keys())\n",
    "values = list(data.values())\n",
    "fig = plt.figure(figsize = (10, 5))\n",
    " \n",
    "# creating the bar plot\n",
    "plt.bar(models, values, color ='red',\n",
    "       width = 0.4)\n",
    "    \n",
    "plt.xticks(rotation=45)\n",
    "plt.xlabel(\"Models\")\n",
    "plt.ylabel(\"Mean Absolute error\")\n",
    "plt.title(\"Performance comparison\")\n",
    "plt.show()"
   ]
  },
  {
   "cell_type": "code",
   "execution_count": 83,
   "metadata": {},
   "outputs": [
    {
     "data": {
      "image/png": "[encoded data removed]",
      "text/plain": [
       "<Figure size 720x360 with 1 Axes>"
      ]
     },
     "metadata": {
      "needs_background": "light"
     },
     "output_type": "display_data"
    }
   ],
   "source": [
    "#Compare the performance of all the models collectively\n",
    "data = {'TV':MSE1, 'TV+Radio':MSE2, 'TV+Newspaper':MSE3,\n",
    "        'TV+Radio+Newspaper':MSE4}\n",
    "\n",
    "models = list(data.keys())\n",
    "values = list(data.values())\n",
    "fig = plt.figure(figsize = (10, 5))\n",
    " \n",
    "# creating the bar plot\n",
    "plt.bar(models, values, color ='green',\n",
    "       width = 0.4)\n",
    "    \n",
    "plt.xticks(rotation=45)\n",
    "plt.xlabel(\"Models\")\n",
    "plt.ylabel(\"Mean square error\")\n",
    "plt.title(\"Performance comparison\")\n",
    "plt.show()"
   ]
  },
  {
   "cell_type": "code",
   "execution_count": 84,
   "metadata": {},
   "outputs": [
    {
     "data": {
      "image/png": "[encoded data removed]",
      "text/plain": [
       "<Figure size 720x360 with 1 Axes>"
      ]
     },
     "metadata": {
      "needs_background": "light"
     },
     "output_type": "display_data"
    }
   ],
   "source": [
    "#Compare the performance of all the models collectively\n",
    "data = {'TV':r21, 'TV+Radio':r22, 'TV+Newspaper':r23,\n",
    "        'TV+Radio+Newspaper':r24}\n",
    "\n",
    "models = list(data.keys())\n",
    "values = list(data.values())\n",
    "fig = plt.figure(figsize = (10, 5))\n",
    " \n",
    "# creating the bar plot\n",
    "plt.bar(models, values, color ='blue',\n",
    "       width = 0.4)\n",
    "    \n",
    "plt.xticks(rotation=45)\n",
    "plt.xlabel(\"Models\")\n",
    "plt.ylabel(\"R-squared\")\n",
    "plt.title(\"Performance comparison\")\n",
    "plt.show()"
   ]
  },
  {
   "cell_type": "markdown",
   "metadata": {},
   "source": [
    "# Determine correlation between variables"
   ]
  },
  {
   "cell_type": "code",
   "execution_count": 85,
   "metadata": {},
   "outputs": [
    {
     "data": {
      "text/plain": [
       "<AxesSubplot:>"
      ]
     },
     "execution_count": 85,
     "metadata": {},
     "output_type": "execute_result"
    },
    {
     "data": {
      "image/png": "[encoded data removed]",
      "text/plain": [
       "<Figure size 432x288 with 2 Axes>"
      ]
     },
     "metadata": {
      "needs_background": "light"
     },
     "output_type": "display_data"
    }
   ],
   "source": [
    "sns.heatmap(df_advertising[['Sales','TV','Radio','Newspaper']].corr(), annot = True)"
   ]
  },
  {
   "cell_type": "code",
   "execution_count": null,
   "metadata": {},
   "outputs": [],
   "source": []
  },
  {
   "cell_type": "code",
   "execution_count": null,
   "metadata": {},
   "outputs": [],
   "source": []
  },
  {
   "cell_type": "code",
   "execution_count": null,
   "metadata": {},
   "outputs": [],
   "source": []
  }
 ],
 "metadata": {
  "kernelspec": {
   "display_name": "Python 3",
   "language": "python",
   "name": "python3"
  },
  "language_info": {
   "codemirror_mode": {
    "name": "ipython",
    "version": 3
   },
   "file_extension": ".py",
   "mimetype": "text/x-python",
   "name": "python",
   "nbconvert_exporter": "python",
   "pygments_lexer": "ipython3",
   "version": "3.8.8"
  }
 },
 "nbformat": 4,
 "nbformat_minor": 2
}
